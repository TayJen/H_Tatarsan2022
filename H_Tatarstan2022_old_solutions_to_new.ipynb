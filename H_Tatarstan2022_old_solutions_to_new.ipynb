{
  "nbformat": 4,
  "nbformat_minor": 0,
  "metadata": {
    "colab": {
      "name": "H_Tatarstan2022_old_solutions_to_new.ipynb",
      "provenance": [],
      "mount_file_id": "1ufhSIh6ZUE5DQCmlW-yfdJv-pu97K8gj",
      "authorship_tag": "ABX9TyP5A2CIC1aSgHY9Qp4eM7s0",
      "include_colab_link": true
    },
    "kernelspec": {
      "name": "python3",
      "display_name": "Python 3"
    },
    "language_info": {
      "name": "python"
    }
  },
  "cells": [
    {
      "cell_type": "markdown",
      "metadata": {
        "id": "view-in-github",
        "colab_type": "text"
      },
      "source": [
        "<a href=\"https://colab.research.google.com/github/TayJen/H_Tatarsan2022/blob/main/H_Tatarstan2022_old_solutions_to_new.ipynb\" target=\"_parent\"><img src=\"https://colab.research.google.com/assets/colab-badge.svg\" alt=\"Open In Colab\"/></a>"
      ]
    },
    {
      "cell_type": "markdown",
      "source": [
        "Из-за невнимательного прочтения описания были использованы собственные метки для различных классов, из-за чего на каждом решении была получена некорректная оценка"
      ],
      "metadata": {
        "id": "oSnTIrQfCcTh"
      }
    },
    {
      "cell_type": "markdown",
      "source": [
        "При отправке решений необходимо соблюдать следующее соответствие классов:\n",
        "\n",
        "`'car': 0, 'head': 1, 'face': 2, 'human': 3, 'carplate': 4`"
      ],
      "metadata": {
        "id": "vTbDzx75D_pN"
      }
    },
    {
      "cell_type": "markdown",
      "source": [
        "Мною было использовано следующее соответствие классов:\n",
        "\n",
        "`'human': 0, 'head': 1, 'face': 2, 'car': 3, 'carplate': 4`"
      ],
      "metadata": {
        "id": "ZKMNBMDwEC0i"
      }
    },
    {
      "cell_type": "markdown",
      "source": [
        "Этот ноутбук предназначен для конвертации некорректных меток в предыдущих решениях в новые, корректные"
      ],
      "metadata": {
        "id": "tTqVvVQoClMg"
      }
    },
    {
      "cell_type": "code",
      "source": [
        "import os\n",
        "import numpy as np\n",
        "import pandas as pd\n",
        "from tqdm import tqdm"
      ],
      "metadata": {
        "id": "z7gCABpOCrYc"
      },
      "execution_count": 7,
      "outputs": []
    },
    {
      "cell_type": "code",
      "source": [
        "%cd /content/drive/MyDrive/H_Tatarstan2022/\n",
        "!pwd"
      ],
      "metadata": {
        "colab": {
          "base_uri": "https://localhost:8080/"
        },
        "id": "9FHVDHQQCweE",
        "outputId": "b4ecde88-8237-4e44-a9f0-596b07afa26d"
      },
      "execution_count": 4,
      "outputs": [
        {
          "output_type": "stream",
          "name": "stdout",
          "text": [
            "/content/drive/MyDrive/H_Tatarstan2022\n",
            "/content/drive/MyDrive/H_Tatarstan2022\n"
          ]
        }
      ]
    },
    {
      "cell_type": "code",
      "source": [
        "!mkdir new_solutions"
      ],
      "metadata": {
        "id": "s31UE5acDGui"
      },
      "execution_count": 5,
      "outputs": []
    },
    {
      "cell_type": "code",
      "execution_count": 11,
      "metadata": {
        "id": "nNffhBUtB5fG"
      },
      "outputs": [],
      "source": [
        "# Мои номера классов обратно в метки\n",
        "my_class_num_to_name = {\n",
        "    0: 'human',\n",
        "    1: 'head',\n",
        "    2: 'face',\n",
        "    3: 'car',\n",
        "    4: 'carplate'\n",
        "}\n",
        "\n",
        "# Номера меток в необходимые номера классов\n",
        "name_to_class_num = {\n",
        "    'human': 3,\n",
        "    'head': 1,\n",
        "    'face': 2,\n",
        "    'car': 0,\n",
        "    'carplate': 4\n",
        "}\n",
        "\n",
        "# Можно заметить что в используемой мной версии перепутаны только машина и человек\n",
        "# Так что создадим более простой словарь который сразу меняет необходимое\n",
        "\n",
        "class_num_to_correct = {\n",
        "    0: 3,\n",
        "    1: 1,\n",
        "    2: 2,\n",
        "    3: 0,\n",
        "    4: 4\n",
        "}"
      ]
    },
    {
      "cell_type": "code",
      "source": [
        "os.listdir('./solutions/')"
      ],
      "metadata": {
        "colab": {
          "base_uri": "https://localhost:8080/"
        },
        "id": "9bs_6PjtDHsw",
        "outputId": "ef392af2-67c5-47ce-c5c4-4d5469e0c61e"
      },
      "execution_count": 12,
      "outputs": [
        {
          "output_type": "execute_result",
          "data": {
            "text/plain": [
              "['first_solution_baseline.csv',\n",
              " 'second_solution_yolov5m_200.csv',\n",
              " 'third_solution_faster_RCNN.csv',\n",
              " 'fourth_solution_faster_RCNN_59_conf.csv',\n",
              " 'faster_rcnn_lr_scheduler_more_aug.csv',\n",
              " 'yolov7x_base_corrected_forsure.csv',\n",
              " 'yolov7x_pseudo_lbl.csv']"
            ]
          },
          "metadata": {},
          "execution_count": 12
        }
      ]
    },
    {
      "cell_type": "code",
      "source": [
        "paths = os.listdir('./solutions/')\n",
        "\n",
        "old_path = './solutions'\n",
        "new_path = './new_solutions'\n",
        "\n",
        "for df_name in tqdm(paths):\n",
        "    df = pd.read_csv(os.path.join(old_path, df_name), sep=';')\n",
        "    df['LabelName'] = df.LabelName.apply(lambda x: class_num_to_correct[x])\n",
        "    df.to_csv(os.path.join(new_path, df_name),\n",
        "              sep=';', index=False)\n",
        "\n",
        "print(os.listdir(new_path))"
      ],
      "metadata": {
        "colab": {
          "base_uri": "https://localhost:8080/"
        },
        "id": "oeIrjVC5DeXb",
        "outputId": "3f1281fc-8b5c-4e23-ea8c-86396cc26c49"
      },
      "execution_count": 13,
      "outputs": [
        {
          "output_type": "stream",
          "name": "stderr",
          "text": [
            "100%|██████████| 7/7 [00:02<00:00,  3.23it/s]"
          ]
        },
        {
          "output_type": "stream",
          "name": "stdout",
          "text": [
            "['two_model_approach_yolov5.csv', 'first_solution_baseline.csv', 'second_solution_yolov5m_200.csv', 'third_solution_faster_RCNN.csv', 'fourth_solution_faster_RCNN_59_conf.csv', 'faster_rcnn_lr_scheduler_more_aug.csv', 'yolov7x_base_corrected_forsure.csv', 'yolov7x_pseudo_lbl.csv']\n"
          ]
        },
        {
          "output_type": "stream",
          "name": "stderr",
          "text": [
            "\n"
          ]
        }
      ]
    }
  ]
}