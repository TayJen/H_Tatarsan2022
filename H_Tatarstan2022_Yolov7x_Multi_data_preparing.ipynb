{
  "nbformat": 4,
  "nbformat_minor": 0,
  "metadata": {
    "colab": {
      "name": "H_Tatarstan2022_Yolov7x_Multi_data_preparing.ipynb",
      "provenance": [],
      "collapsed_sections": [
        "SsVLvf_I1MJz",
        "SsylsuYNHNFQ",
        "HBn6_EsfNOCC",
        "Y5zgDP-GRKR4"
      ],
      "mount_file_id": "1Slv1vvkMhymwAqn8nVU6atR9rSf1eu4j",
      "authorship_tag": "ABX9TyPzQg4vjeYfwPSVVF2P3qJv",
      "include_colab_link": true
    },
    "kernelspec": {
      "name": "python3",
      "display_name": "Python 3"
    },
    "language_info": {
      "name": "python"
    }
  },
  "cells": [
    {
      "cell_type": "markdown",
      "metadata": {
        "id": "view-in-github",
        "colab_type": "text"
      },
      "source": [
        "<a href=\"https://colab.research.google.com/github/TayJen/H_Tatarsan2022/blob/main/H_Tatarstan2022_Yolov7x_Multi_data_preparing.ipynb\" target=\"_parent\"><img src=\"https://colab.research.google.com/assets/colab-badge.svg\" alt=\"Open In Colab\"/></a>"
      ]
    },
    {
      "cell_type": "markdown",
      "source": [
        "В данном ноутбуке помимо использования доступных на соревновании данных будет использован общедоступный датасет с сайта: [CrowdHuman](https://www.crowdhuman.org/)"
      ],
      "metadata": {
        "id": "YDQPQjQR0qdJ"
      }
    },
    {
      "cell_type": "markdown",
      "source": [
        "При обучении модели на столь обильных данных используется свой общий диск, с огромной памятью, вся информация будет сохранена на нем"
      ],
      "metadata": {
        "id": "hw1lPMdV1Dmm"
      }
    },
    {
      "cell_type": "markdown",
      "source": [
        "## Подготовка диска + скачивание файлов"
      ],
      "metadata": {
        "id": "SsVLvf_I1MJz"
      }
    },
    {
      "cell_type": "code",
      "source": [
        "%cd /content/drive/Shareddrives/data_drive\n",
        "!pwd"
      ],
      "metadata": {
        "colab": {
          "base_uri": "https://localhost:8080/"
        },
        "id": "MLIGGxcD1Oh-",
        "outputId": "132f37d1-456c-4b38-e0ee-b95e1fb031a5"
      },
      "execution_count": 1,
      "outputs": [
        {
          "output_type": "stream",
          "name": "stdout",
          "text": [
            "/content/drive/Shareddrives/data_drive\n",
            "/content/drive/Shareddrives/data_drive\n"
          ]
        }
      ]
    },
    {
      "cell_type": "code",
      "source": [
        "!mkdir H_Tatarstan2022\n",
        "%cd ./H_Tatarstan2022\n",
        "!pwd"
      ],
      "metadata": {
        "colab": {
          "base_uri": "https://localhost:8080/"
        },
        "id": "DrvCGPEO1O-0",
        "outputId": "ef7c23f1-3012-455d-9521-f34f29ebaf1d"
      },
      "execution_count": 2,
      "outputs": [
        {
          "output_type": "stream",
          "name": "stdout",
          "text": [
            "/content/drive/Shareddrives/data_drive/H_Tatarstan2022\n",
            "/content/drive/Shareddrives/data_drive/H_Tatarstan2022\n"
          ]
        }
      ]
    },
    {
      "cell_type": "markdown",
      "source": [
        "Открывая данные на сайте можно проверить уникальные айди файлов, для того чтобы скачать их здесь, без ручного скачивания.\n",
        "\n",
        "Айди файлов:\n",
        "\n",
        "\n",
        "*   Train Part #1: `134QOvaatwKdy0iIeNqA_p-xkAhkV4F8Y`\n",
        "*   Train Part #2: `17evzPh7gc1JBNvnW1ENXLy5Kr4Q_Nnla`\n",
        "*   Train Part #3: `1tdp0UCgxrqy1B6p8LkR-Iy0aIJ8l4fJW`\n",
        "*   Annotation Train: `1UUTea5mYqvlUObsC1Z8CFldHJAtLtMX3`\n",
        "\n"
      ],
      "metadata": {
        "id": "j9vbfjLM15iG"
      }
    },
    {
      "cell_type": "markdown",
      "source": [
        "Вспомогательные ссылки:\n",
        "\n",
        "\n",
        "*   [Downloading data from a shared google drive link in google colab](https://stackoverflow.com/questions/62759748/downloading-data-from-a-shared-google-drive-link-in-google-colab)\n",
        "*   [Gdown official documentation](https://github.com/wkentaro/gdown)"
      ],
      "metadata": {
        "id": "8xiZlLwt2jf2"
      }
    },
    {
      "cell_type": "code",
      "source": [
        "import gdown\n",
        "\n",
        "ids = ['134QOvaatwKdy0iIeNqA_p-xkAhkV4F8Y',\n",
        "       '17evzPh7gc1JBNvnW1ENXLy5Kr4Q_Nnla',\n",
        "       '1tdp0UCgxrqy1B6p8LkR-Iy0aIJ8l4fJW',\n",
        "       '1UUTea5mYqvlUObsC1Z8CFldHJAtLtMX3']\n",
        "\n",
        "for id in ids:\n",
        "    gdown.download(id=id, quiet=False)"
      ],
      "metadata": {
        "colab": {
          "base_uri": "https://localhost:8080/"
        },
        "id": "AAYTKiVp1PCq",
        "outputId": "5579d04a-a14c-4204-89a3-95b9945530d5"
      },
      "execution_count": 5,
      "outputs": [
        {
          "output_type": "stream",
          "name": "stderr",
          "text": [
            "Downloading...\n",
            "From: https://drive.google.com/uc?id=134QOvaatwKdy0iIeNqA_p-xkAhkV4F8Y\n",
            "To: /content/drive/Shareddrives/data_drive/H_Tatarstan2022/CrowdHuman_train01.zip\n",
            "100%|██████████| 2.97G/2.97G [00:37<00:00, 79.4MB/s]\n",
            "Downloading...\n",
            "From: https://drive.google.com/uc?id=17evzPh7gc1JBNvnW1ENXLy5Kr4Q_Nnla\n",
            "To: /content/drive/Shareddrives/data_drive/H_Tatarstan2022/CrowdHuman_train02.zip\n",
            "100%|██████████| 3.09G/3.09G [00:57<00:00, 53.9MB/s]\n",
            "Downloading...\n",
            "From: https://drive.google.com/uc?id=1tdp0UCgxrqy1B6p8LkR-Iy0aIJ8l4fJW\n",
            "To: /content/drive/Shareddrives/data_drive/H_Tatarstan2022/CrowdHuman_train03.zip\n",
            "100%|██████████| 2.31G/2.31G [00:34<00:00, 67.4MB/s]\n",
            "Downloading...\n",
            "From: https://drive.google.com/uc?id=1UUTea5mYqvlUObsC1Z8CFldHJAtLtMX3\n",
            "To: /content/drive/Shareddrives/data_drive/H_Tatarstan2022/annotation_train.odgt\n",
            "100%|██████████| 80.0M/80.0M [00:02<00:00, 31.8MB/s]\n"
          ]
        }
      ]
    },
    {
      "cell_type": "code",
      "source": [
        "!ls"
      ],
      "metadata": {
        "colab": {
          "base_uri": "https://localhost:8080/"
        },
        "id": "ozE85tJv1PEo",
        "outputId": "9c36f9fe-933e-43f8-fbbb-7fc60c1a1d3c"
      },
      "execution_count": 6,
      "outputs": [
        {
          "output_type": "stream",
          "name": "stdout",
          "text": [
            "annotation_train.odgt\tCrowdHuman_train02.zip\n",
            "CrowdHuman_train01.zip\tCrowdHuman_train03.zip\n"
          ]
        }
      ]
    },
    {
      "cell_type": "code",
      "source": [
        "!mkdir ./add_data\n",
        "!mkdir ./add_data/zipped\n",
        "!mkdir ./add_data/unzipped\n",
        "!mkdir ./add_data/annotations\n",
        "!mv CrowdHuman_train01.zip ./add_data/zipped\n",
        "!mv CrowdHuman_train02.zip ./add_data/zipped\n",
        "!mv CrowdHuman_train03.zip ./add_data/zipped\n",
        "!mv annotation_train.odgt ./add_data/annotations"
      ],
      "metadata": {
        "id": "kldP8FNj1PGs"
      },
      "execution_count": 7,
      "outputs": []
    },
    {
      "cell_type": "code",
      "source": [
        "!unzip ./add_data/zipped/CrowdHuman_train01.zip -d ./add_data/unzipped\n",
        "!unzip ./add_data/zipped/CrowdHuman_train02.zip -d ./add_data/unzipped\n",
        "!unzip ./add_data/zipped/CrowdHuman_train03.zip -d ./add_data/unzipped"
      ],
      "metadata": {
        "id": "TuAwUc321PII"
      },
      "execution_count": null,
      "outputs": []
    },
    {
      "cell_type": "markdown",
      "source": [
        "## Конвертация аннотаций в Yolo формат"
      ],
      "metadata": {
        "id": "SsylsuYNHNFQ"
      }
    },
    {
      "cell_type": "markdown",
      "source": [
        "Далее нам необходимо трансформировать используемые аннотации в Yolo формат, так как обучаться будет state-of-the-art Yolov7x"
      ],
      "metadata": {
        "id": "OBPrQo338auL"
      }
    },
    {
      "cell_type": "markdown",
      "source": [
        "Вспомогательные ссылочки:\n",
        "\n",
        "\n",
        "*   [Convert CrowdHuman dataset to Yolo annotations](https://gist.github.com/adujardin/62653118466962264aa0c6339c3e9cf5)\n",
        "*   [crowdhuman_train_anno.py](https://github.com/alaksana96/darknet-crowdhuman/blob/master/crowdhuman_train_anno.py)"
      ],
      "metadata": {
        "id": "TmmfsvDY82yd"
      }
    },
    {
      "cell_type": "code",
      "execution_count": 9,
      "metadata": {
        "id": "Qrq-Xfs50kRu"
      },
      "outputs": [],
      "source": [
        "!mkdir ./add_data/unzipped/Yolo_labels"
      ]
    },
    {
      "cell_type": "code",
      "source": [
        "import numpy\n",
        "import cv2\n",
        "from multiprocessing import Process, Manager\n",
        "import yaml\n",
        "from tqdm import tqdm\n",
        "\n",
        "intPERSON = 0\n",
        "intHEAD   = 1\n",
        "\n",
        "manager = Manager()\n",
        "return_dict = manager.dict()\n",
        "return_dict"
      ],
      "metadata": {
        "colab": {
          "base_uri": "https://localhost:8080/"
        },
        "id": "jZiPPe8p9EKW",
        "outputId": "b7d8bb88-7a9d-4f87-8a34-94b43e82a055"
      },
      "execution_count": 11,
      "outputs": [
        {
          "output_type": "execute_result",
          "data": {
            "text/plain": [
              "<DictProxy object, typeid 'dict' at 0x7f7d08f19210>"
            ]
          },
          "metadata": {},
          "execution_count": 11
        }
      ]
    },
    {
      "cell_type": "code",
      "source": [
        "def generate_annotations(ii, return_dict):\n",
        "    line = return_dict[ii]\n",
        "    del return_dict[ii]\n",
        "    \n",
        "    dictLine = yaml.load(line)\n",
        "\n",
        "    strID = dictLine['ID']\n",
        "\n",
        "    img = cv2.imread('./add_data/unzipped/Images/{}.jpg'.format(strID), 1)\n",
        "\n",
        "    imgWidth  = img.shape[1]\n",
        "    imgHeight = img.shape[0]\n",
        "\n",
        "    # Create .txt label file\n",
        "    with open('./add_data/unzipped/Yolo_labels/{}.txt'.format(strID), 'w+') as txtf:\n",
        "\n",
        "        for label in dictLine['gtboxes']:\n",
        "\n",
        "            if 'extra' in label and 'ignore' in label['extra'] and label['extra']['ignore'] == 1:\n",
        "                continue\n",
        "            if 'extra' in label and 'unsure' in label['extra'] and label['extra']['unsure'] == 1:\n",
        "                continue \n",
        "\n",
        "            # Person BB\n",
        "            px = float(label['fbox'][0])\n",
        "            py = float(label['fbox'][1])\n",
        "            pw = float(label['fbox'][2])\n",
        "            ph = float(label['fbox'][3])\n",
        "\n",
        "            # Head BB\n",
        "            hx = float(label['hbox'][0])\n",
        "            hy = float(label['hbox'][1])\n",
        "            hw = float(label['hbox'][2])\n",
        "            hh = float(label['hbox'][3])\n",
        "\n",
        "            # Absolute person BB\n",
        "            cpx = px + pw / 2\n",
        "            cpy = py + ph / 2\n",
        "\n",
        "            abspx = cpx / imgWidth\n",
        "            abspy = cpy / imgHeight\n",
        "            abspw = pw / imgWidth\n",
        "            absph = ph / imgHeight  \n",
        "\n",
        "            abspx = 1 if abspx > 1 else abspx\n",
        "            abspy = 1 if abspy > 1 else abspy\n",
        "            abspw = 1 if abspw > 1 else abspw\n",
        "            absph = 1 if absph > 1 else absph\n",
        "            abspx = 0.000001 if abspx < 0 else abspx\n",
        "            abspy = 0.000001 if abspy < 0 else abspy\n",
        "            abspw = 0.000001 if abspw < 0 else abspw\n",
        "            absph = 0.000001 if absph < 0 else absph\n",
        "\n",
        "            # Absolute head BB\n",
        "            chx = hx + hw / 2\n",
        "            chy = hy + hh / 2\n",
        "\n",
        "            abshx = chx / imgWidth\n",
        "            abshy = chy / imgHeight\n",
        "            abshw = hw / imgWidth\n",
        "            abshh = hh / imgHeight  \n",
        "\n",
        "            abshx = 1 if abshx > 1 else abshx\n",
        "            abshy = 1 if abshy > 1 else abshy\n",
        "            abshw = 1 if abshw > 1 else abshw\n",
        "            abshh = 1 if abshh > 1 else abshh\n",
        "            abshx = 0.000001 if abshx < 0 else abshx\n",
        "            abshy = 0.000001 if abshy < 0 else abshy\n",
        "            abshw = 0.000001 if abshw < 0 else abshw\n",
        "            abshh = 0.000001 if abshh < 0 else abshh\n",
        "\n",
        "            # Write to file\n",
        "            txtf.write('{} {:.6f} {:.6f} {:.6f} {:.6f}\\n'.format(intPERSON,\n",
        "                                                                 abspx,\n",
        "                                                                 abspy,\n",
        "                                                                 abspw,\n",
        "                                                                 absph))\n",
        "\n",
        "            txtf.write('{} {:.6f} {:.6f} {:.6f} {:.6f}\\n'.format(intHEAD,\n",
        "                                                                 abshx,\n",
        "                                                                 abshy,\n",
        "                                                                 abshw,\n",
        "                                                                 abshh))"
      ],
      "metadata": {
        "id": "Ge503m2x9EMH"
      },
      "execution_count": 12,
      "outputs": []
    },
    {
      "cell_type": "code",
      "source": [
        "with open('./add_data/annotations/annotation_train.odgt') as f:\n",
        "        \n",
        "    processes = []\n",
        "    max_iter = 500\n",
        "\n",
        "    for ii, line in tqdm(enumerate(f)): \n",
        "        return_dict[ii] = line\n",
        "        pcs = Process(target=generate_annotations,\n",
        "                      args=(ii, return_dict))\n",
        "        processes.append(pcs)\n",
        "        pcs.start()\n",
        "        \n",
        "        if ii % max_iter == 0:\n",
        "            for jj in range(len(processes)):    \n",
        "                processes[jj].join()  \n",
        "\n",
        "            processes = []\n",
        "            \n",
        "    for jj in range(len(processes)):    \n",
        "        processes[jj].join()      \n",
        "        \n",
        "    processes = []"
      ],
      "metadata": {
        "colab": {
          "base_uri": "https://localhost:8080/"
        },
        "id": "_OByPdG99EON",
        "outputId": "3389f4a1-3864-4fe8-87df-a8a1e250bd76"
      },
      "execution_count": 13,
      "outputs": [
        {
          "output_type": "stream",
          "name": "stderr",
          "text": [
            "15000it [32:52,  7.60it/s]\n"
          ]
        }
      ]
    },
    {
      "cell_type": "code",
      "source": [
        "import os\n",
        "\n",
        "len(os.listdir('./add_data/unzipped/Yolo_labels'))"
      ],
      "metadata": {
        "colab": {
          "base_uri": "https://localhost:8080/"
        },
        "id": "7sZAqJMfOYJh",
        "outputId": "e06a87e4-db9d-494c-b0c5-74b25b382e5d"
      },
      "execution_count": 15,
      "outputs": [
        {
          "output_type": "execute_result",
          "data": {
            "text/plain": [
              "15000"
            ]
          },
          "metadata": {},
          "execution_count": 15
        }
      ]
    },
    {
      "cell_type": "code",
      "source": [
        "len(os.listdir('./add_data/unzipped/Images'))"
      ],
      "metadata": {
        "colab": {
          "base_uri": "https://localhost:8080/"
        },
        "id": "ZT9_6MWWOml4",
        "outputId": "c5807910-0739-46e2-f6fc-9f78945f6dfe"
      },
      "execution_count": 16,
      "outputs": [
        {
          "output_type": "execute_result",
          "data": {
            "text/plain": [
              "15000"
            ]
          },
          "metadata": {},
          "execution_count": 16
        }
      ]
    },
    {
      "cell_type": "markdown",
      "source": [
        "## Перебрасывание старых данных на общий диск"
      ],
      "metadata": {
        "id": "HBn6_EsfNOCC"
      }
    },
    {
      "cell_type": "markdown",
      "source": [
        "Перебросим данные с личного диска, куда они были скачаны в самом начале в новый диск, для последующего объединения с имеющимися новыми данными"
      ],
      "metadata": {
        "id": "ACa7b2x3O0h0"
      }
    },
    {
      "cell_type": "code",
      "source": [
        "!mkdir ./data\n",
        "!mkdir ./data/zipped\n",
        "!cp /content/drive/MyDrive/H_Tatarstan2022/data/zipped/train_dataset_train.zip ./data/zipped/train_dataset_train.zip\n",
        "!cp /content/drive/MyDrive/H_Tatarstan2022/data/zipped/test_dataset_test.zip ./data/zipped/test_dataset_test.zip"
      ],
      "metadata": {
        "id": "ouqH13L7NRJF"
      },
      "execution_count": 17,
      "outputs": []
    },
    {
      "cell_type": "code",
      "source": [
        "!unzip ./data/zipped/train_dataset_train.zip -d ./data/\n",
        "!unzip ./data/zipped/test_dataset_test.zip -d ./data/"
      ],
      "metadata": {
        "id": "H_RKoJ_DNRK-"
      },
      "execution_count": null,
      "outputs": []
    },
    {
      "cell_type": "code",
      "source": [
        "import os\n",
        "\n",
        "len(os.listdir('./data/train/images')), len(os.listdir('./data/test/images'))"
      ],
      "metadata": {
        "colab": {
          "base_uri": "https://localhost:8080/"
        },
        "id": "25mqOvkfNRM7",
        "outputId": "107edd12-e0e6-4f41-98e9-49b3bbe6b1d4"
      },
      "execution_count": 19,
      "outputs": [
        {
          "output_type": "execute_result",
          "data": {
            "text/plain": [
              "(2002, 855)"
            ]
          },
          "metadata": {},
          "execution_count": 19
        }
      ]
    },
    {
      "cell_type": "code",
      "source": [
        "import pandas as pd\n",
        "\n",
        "pd.Series([file_name.split('_')[-1]\n",
        "           for file_name in os.listdir('data/train/labels')]).value_counts()"
      ],
      "metadata": {
        "colab": {
          "base_uri": "https://localhost:8080/"
        },
        "id": "jrfo0JF2QOMP",
        "outputId": "5e331252-7ee7-4755-fbfe-1d38bcd642cc"
      },
      "execution_count": 20,
      "outputs": [
        {
          "output_type": "execute_result",
          "data": {
            "text/plain": [
              "head..txt        1741\n",
              "human..txt       1740\n",
              "car..txt         1647\n",
              "face..txt         630\n",
              "carplate..txt     246\n",
              "dtype: int64"
            ]
          },
          "metadata": {},
          "execution_count": 20
        }
      ]
    },
    {
      "cell_type": "markdown",
      "source": [
        "## Yolo разметка для старых данных"
      ],
      "metadata": {
        "id": "Y5zgDP-GRKR4"
      }
    },
    {
      "cell_type": "markdown",
      "source": [
        "Будет создано три различные директории с данными, одна для людей/голов, одна для лиц и одна для машин/госномеров"
      ],
      "metadata": {
        "id": "yNZLvha-RM_Q"
      }
    },
    {
      "cell_type": "markdown",
      "source": [
        "Прежде чем мы создадим директории, трансформируем аннотации в нужный формат"
      ],
      "metadata": {
        "id": "pN_SybIQUDaO"
      }
    },
    {
      "cell_type": "code",
      "source": [
        "# Сделаем разметку как в Yolo, отдельно для людей и отдельно для машин\n",
        "# После этого нужным образом перемешаем и закинем в папку data_for_yolo\n",
        "\n",
        "name_to_class_num_human = {\n",
        "    'human': 0,\n",
        "    'head': 1\n",
        "}\n",
        "\n",
        "name_to_class_num_face = {\n",
        "    'face': 0\n",
        "}\n",
        "\n",
        "name_to_class_num_car = {\n",
        "    'car': 0,\n",
        "    'carplate': 1\n",
        "}"
      ],
      "metadata": {
        "id": "chtR8dUiQOOU"
      },
      "execution_count": 25,
      "outputs": []
    },
    {
      "cell_type": "code",
      "source": [
        "# !mkdir ./data/train/yolo_labels_human\n",
        "# !mkdir ./data/train/yolo_labels_car\n",
        "!mkdir ./data/train/yolo_labels_face"
      ],
      "metadata": {
        "id": "gqyvRHI5NRO-"
      },
      "execution_count": 26,
      "outputs": []
    },
    {
      "cell_type": "code",
      "source": [
        "def yolo_annotation_new():\n",
        "    human_set = {'human', 'head'}\n",
        "    face_set = {'face'}\n",
        "    car_set = {'car', 'carplate'}\n",
        "\n",
        "    old_path = './data/train/labels/'\n",
        "    new_path_human = './data/train/yolo_labels_human/'\n",
        "    new_path_face = './data/train/yolo_labels_face/'\n",
        "    new_path_car = './data/train/yolo_labels_car/'\n",
        "\n",
        "    for img_name in tqdm(os.listdir('./data/train/images/')):\n",
        "        img_name = img_name.split('.')[0]\n",
        "        for f in os.listdir(old_path):\n",
        "            if f.startswith(img_name):\n",
        "                class_name = f.split('.')[0].split('_')[-1]\n",
        "                if class_name in human_set:\n",
        "                    class_num = name_to_class_num_human[class_name]\n",
        "                    # Так как файл будет открываться несколько раз\n",
        "                    # То нам необходимо добавлять информацию в файл,\n",
        "                    # А не перезаписывать его\n",
        "                    with open(new_path_human + img_name + '.txt', 'a+') as f_new, open(old_path + f, 'r') as f_old:\n",
        "                        for row in f_old.readlines():\n",
        "                            f_new.write(str(class_num) + row[1:])\n",
        "                \n",
        "                elif class_name in face_set:\n",
        "                    class_num = name_to_class_num_face[class_name]\n",
        "                    with open(new_path_face + img_name + '.txt', 'a+') as f_new, open(old_path + f, 'r') as f_old:\n",
        "                        for row in f_old.readlines():\n",
        "                            f_new.write(str(class_num) + row[1:])\n",
        "                \n",
        "                elif class_name in car_set:\n",
        "                    class_num = name_to_class_num_car[class_name]\n",
        "                    with open(new_path_car + img_name + '.txt', 'a+') as f_new, open(old_path + f, 'r') as f_old:\n",
        "                        for row in f_old.readlines():\n",
        "                            f_new.write(str(class_num) + row[1:])\n",
        "\n",
        "yolo_annotation_new()"
      ],
      "metadata": {
        "colab": {
          "base_uri": "https://localhost:8080/"
        },
        "id": "mt0BX73vNRQ1",
        "outputId": "3232882c-911a-48f8-de7e-b408c6cbf179"
      },
      "execution_count": 27,
      "outputs": [
        {
          "output_type": "stream",
          "name": "stderr",
          "text": [
            "100%|██████████| 2002/2002 [40:22<00:00,  1.21s/it]\n"
          ]
        }
      ]
    },
    {
      "cell_type": "code",
      "source": [
        "len(os.listdir('./data/train/yolo_labels_human/'))"
      ],
      "metadata": {
        "colab": {
          "base_uri": "https://localhost:8080/"
        },
        "id": "wdqeCOloU1sa",
        "outputId": "310443fe-ba3c-495a-aa6f-55d0d6afb075"
      },
      "execution_count": 28,
      "outputs": [
        {
          "output_type": "execute_result",
          "data": {
            "text/plain": [
              "1741"
            ]
          },
          "metadata": {},
          "execution_count": 28
        }
      ]
    },
    {
      "cell_type": "code",
      "source": [
        "len(os.listdir('./data/train/yolo_labels_face/'))"
      ],
      "metadata": {
        "colab": {
          "base_uri": "https://localhost:8080/"
        },
        "id": "E_lXRjxIU6Nk",
        "outputId": "2a7ddaca-3f78-4924-ed27-9f350fa5fd48"
      },
      "execution_count": 29,
      "outputs": [
        {
          "output_type": "execute_result",
          "data": {
            "text/plain": [
              "630"
            ]
          },
          "metadata": {},
          "execution_count": 29
        }
      ]
    },
    {
      "cell_type": "code",
      "source": [
        "len(os.listdir('./data/train/yolo_labels_car/'))"
      ],
      "metadata": {
        "colab": {
          "base_uri": "https://localhost:8080/"
        },
        "id": "p9i5U77QU6Ph",
        "outputId": "3cd61f11-a7f2-4188-82bb-6dbe5cb46a07"
      },
      "execution_count": 30,
      "outputs": [
        {
          "output_type": "execute_result",
          "data": {
            "text/plain": [
              "1893"
            ]
          },
          "metadata": {},
          "execution_count": 30
        }
      ]
    },
    {
      "cell_type": "markdown",
      "source": [
        "## Человек/Голова"
      ],
      "metadata": {
        "id": "F0u893qGUKgZ"
      }
    },
    {
      "cell_type": "markdown",
      "source": [
        "В данном разделе помимо перебрасывания старых картинок нам также необходимо учесть новые. В используемом подходе все новые картинки будут использоваться для обучения, однако не будут использоваться для валидации, так как тестовый набор на сайте не будет их содержать, а валидация обязана имитировать тестовое распределение"
      ],
      "metadata": {
        "id": "Z2Vy-poeUmwP"
      }
    },
    {
      "cell_type": "code",
      "source": [
        "!mkdir ./data_for_yolo_human\n",
        "!mkdir ./data_for_yolo_human/data\n",
        "!mkdir ./data_for_yolo_human/data/images\n",
        "!mkdir ./data_for_yolo_human/data/labels\n",
        "!mkdir ./data_for_yolo_human/data/images/train\n",
        "!mkdir ./data_for_yolo_human/data/labels/train\n",
        "!mkdir ./data_for_yolo_human/data/images/test\n",
        "!mkdir ./data_for_yolo_human/data/labels/test"
      ],
      "metadata": {
        "id": "4ersOT_nNRSx"
      },
      "execution_count": 31,
      "outputs": []
    },
    {
      "cell_type": "code",
      "source": [
        "import yaml\n",
        "\n",
        "\n",
        "def create_yaml_cont_human():\n",
        "    \"\"\"\n",
        "        train: /content/drive/Shareddrives/data_drive/H_Tatarstan2022/data_for_yolo_human/data/images/train/\n",
        "        val: /content/drive/Shareddrives/data_drive/H_Tatarstan2022/data_for_yolo_human/data/images/test/\n",
        "\n",
        "        # number of classes\n",
        "        nc: 2\n",
        "\n",
        "        # class names\n",
        "        names: ['human', 'head']\n",
        "    \"\"\"\n",
        "\n",
        "    yaml_content = {\n",
        "        'train': '/content/drive/Shareddrives/data_drive/H_Tatarstan2022/data_for_yolo_human/data/images/train/',\n",
        "        'val': '/content/drive/Shareddrives/data_drive/H_Tatarstan2022/data_for_yolo_human/data/images/test/',\n",
        "        'nc': 2,\n",
        "        'names': ['human', 'head']\n",
        "    }\n",
        "\n",
        "    with open('./data_for_yolo_human/dataset.yaml', 'w') as f_yml:\n",
        "        yaml.dump(yaml_content, f_yml)\n",
        "\n",
        "create_yaml_cont_human()"
      ],
      "metadata": {
        "id": "kQ9PuFJGVX3I"
      },
      "execution_count": 36,
      "outputs": []
    },
    {
      "cell_type": "markdown",
      "source": [
        "### Yolo transfer + shuffle"
      ],
      "metadata": {
        "id": "IRlBz0CdWx_D"
      }
    },
    {
      "cell_type": "code",
      "source": [
        "labels_names = os.listdir('./data/train/yolo_labels_human')\n",
        "print(len(labels_names))"
      ],
      "metadata": {
        "colab": {
          "base_uri": "https://localhost:8080/"
        },
        "id": "FkRgD9MOVX5R",
        "outputId": "135e0f04-bc44-4a6a-b5fd-70f5b1049247"
      },
      "execution_count": 37,
      "outputs": [
        {
          "output_type": "stream",
          "name": "stdout",
          "text": [
            "1741\n"
          ]
        }
      ]
    },
    {
      "cell_type": "code",
      "source": [
        "from sklearn.model_selection import train_test_split\n",
        "\n",
        "\n",
        "train_labels, test_labels = train_test_split(labels_names, test_size=0.25,\n",
        "                                             shuffle=True, random_state=59)\n",
        "\n",
        "len(train_labels), len(test_labels)"
      ],
      "metadata": {
        "colab": {
          "base_uri": "https://localhost:8080/"
        },
        "id": "AWZ-W2kIVX7Z",
        "outputId": "6ab5570d-2aa3-49e3-a24b-27dc8c741d10"
      },
      "execution_count": 38,
      "outputs": [
        {
          "output_type": "execute_result",
          "data": {
            "text/plain": [
              "(1305, 436)"
            ]
          },
          "metadata": {},
          "execution_count": 38
        }
      ]
    },
    {
      "cell_type": "code",
      "source": [
        "train_labels = set(train_labels)\n",
        "test_labels = set(test_labels)\n",
        "\n",
        "len(train_labels), len(test_labels)"
      ],
      "metadata": {
        "colab": {
          "base_uri": "https://localhost:8080/"
        },
        "id": "oYpiIsEuVX9W",
        "outputId": "07c339dc-267d-4efc-edcb-b194b30ff84c"
      },
      "execution_count": 39,
      "outputs": [
        {
          "output_type": "execute_result",
          "data": {
            "text/plain": [
              "(1305, 436)"
            ]
          },
          "metadata": {},
          "execution_count": 39
        }
      ]
    },
    {
      "cell_type": "code",
      "source": [
        "from shutil import copy\n",
        "\n",
        "\n",
        "def copy_to_yolo_human():\n",
        "    old_path_img = './data/train/images/'\n",
        "    old_path_lbl = './data/train/yolo_labels_human/'\n",
        "    yolo_path_img = './data_for_yolo_human/data/images/'\n",
        "    yolo_path_lbl = './data_for_yolo_human/data/labels/'\n",
        "\n",
        "    for lbl_name in tqdm(os.listdir(old_path_lbl)):\n",
        "        image_name = lbl_name.split('.')[0] + '.jpg'\n",
        "        # print(image_name, lbl_name)\n",
        "        if lbl_name in train_labels:\n",
        "            copy(old_path_img + image_name, yolo_path_img + 'train/' + image_name)\n",
        "            copy(old_path_lbl + lbl_name, yolo_path_lbl + 'train/' + lbl_name)\n",
        "        elif lbl_name in test_labels:\n",
        "            copy(old_path_img + image_name, yolo_path_img + 'test/' + image_name)\n",
        "            copy(old_path_lbl + lbl_name, yolo_path_lbl + 'test/' + lbl_name)\n",
        "\n",
        "copy_to_yolo_human()"
      ],
      "metadata": {
        "colab": {
          "base_uri": "https://localhost:8080/"
        },
        "id": "b6SMA3_MVX--",
        "outputId": "ec9a7fd6-7351-4835-c9a4-797f5eb11d6c"
      },
      "execution_count": 40,
      "outputs": [
        {
          "output_type": "stream",
          "name": "stderr",
          "text": [
            "100%|██████████| 1741/1741 [00:53<00:00, 32.65it/s]\n"
          ]
        }
      ]
    },
    {
      "cell_type": "code",
      "source": [
        "len(os.listdir('./data_for_yolo_human/data/images/train')), len(os.listdir('./data_for_yolo_human/data/images/test'))"
      ],
      "metadata": {
        "colab": {
          "base_uri": "https://localhost:8080/"
        },
        "id": "Xlz3izzZX8HD",
        "outputId": "7b24f2a5-ab8c-4533-d9b7-1949e6171fc4"
      },
      "execution_count": 41,
      "outputs": [
        {
          "output_type": "execute_result",
          "data": {
            "text/plain": [
              "(1305, 436)"
            ]
          },
          "metadata": {},
          "execution_count": 41
        }
      ]
    },
    {
      "cell_type": "code",
      "source": [
        "len(os.listdir('./data_for_yolo_human/data/labels/train')), len(os.listdir('./data_for_yolo_human/data/labels/test'))"
      ],
      "metadata": {
        "colab": {
          "base_uri": "https://localhost:8080/"
        },
        "id": "WgwAVn6JX_PX",
        "outputId": "468c3391-3e7e-4acc-a748-090f22426863"
      },
      "execution_count": 42,
      "outputs": [
        {
          "output_type": "execute_result",
          "data": {
            "text/plain": [
              "(1305, 436)"
            ]
          },
          "metadata": {},
          "execution_count": 42
        }
      ]
    },
    {
      "cell_type": "markdown",
      "source": [
        "Так же перебросим новые данные в `train`"
      ],
      "metadata": {
        "id": "YBcdeQOkXN4m"
      }
    },
    {
      "cell_type": "code",
      "source": [
        "def copy_to_yolo_human_new():\n",
        "    old_path_img = './add_data/unzipped/Images/'\n",
        "    old_path_lbl = './add_data/unzipped/Yolo_labels/'\n",
        "    yolo_path_img = './data_for_yolo_human/data/images/train/'\n",
        "    yolo_path_lbl = './data_for_yolo_human/data/labels/train/'\n",
        "\n",
        "    for lbl_name in tqdm(os.listdir(old_path_lbl)):\n",
        "        image_name = lbl_name.split('.')[0] + '.jpg'\n",
        "        copy(old_path_img + image_name, yolo_path_img + image_name)\n",
        "        copy(old_path_lbl + lbl_name, yolo_path_lbl + lbl_name)\n",
        "\n",
        "copy_to_yolo_human_new()"
      ],
      "metadata": {
        "colab": {
          "base_uri": "https://localhost:8080/"
        },
        "id": "-41UQQZ3HRs9",
        "outputId": "772d6638-2cd7-4809-d24e-32075dbc0d20"
      },
      "execution_count": 44,
      "outputs": [
        {
          "output_type": "stream",
          "name": "stderr",
          "text": [
            "100%|██████████| 15000/15000 [1:14:28<00:00,  3.36it/s]\n"
          ]
        }
      ]
    },
    {
      "cell_type": "code",
      "source": [
        "len(os.listdir('./data_for_yolo_human/data/images/train')), len(os.listdir('./data_for_yolo_human/data/images/test'))"
      ],
      "metadata": {
        "colab": {
          "base_uri": "https://localhost:8080/"
        },
        "id": "euPYSrceHRu4",
        "outputId": "9c60e6d1-b078-4b16-b994-8101e03bdc01"
      },
      "execution_count": 45,
      "outputs": [
        {
          "output_type": "execute_result",
          "data": {
            "text/plain": [
              "(16305, 436)"
            ]
          },
          "metadata": {},
          "execution_count": 45
        }
      ]
    },
    {
      "cell_type": "code",
      "source": [
        "len(os.listdir('./data_for_yolo_human/data/labels/train')), len(os.listdir('./data_for_yolo_human/data/labels/test'))"
      ],
      "metadata": {
        "colab": {
          "base_uri": "https://localhost:8080/"
        },
        "id": "e0vK99nOHRxC",
        "outputId": "52954c73-93a7-4779-c57b-4e35b2452484"
      },
      "execution_count": 46,
      "outputs": [
        {
          "output_type": "execute_result",
          "data": {
            "text/plain": [
              "(16305, 436)"
            ]
          },
          "metadata": {},
          "execution_count": 46
        }
      ]
    },
    {
      "cell_type": "markdown",
      "source": [
        "## Лицо"
      ],
      "metadata": {
        "id": "rPF3kOt9ZMQn"
      }
    },
    {
      "cell_type": "markdown",
      "source": [
        "Так как во всех данных лицо заблюрено, то не имеет смысла искать похожие датасеты"
      ],
      "metadata": {
        "id": "HVnDs812ZNtt"
      }
    },
    {
      "cell_type": "code",
      "source": [
        "!mkdir ./data_for_yolo_face\n",
        "!mkdir ./data_for_yolo_face/data\n",
        "!mkdir ./data_for_yolo_face/data/images\n",
        "!mkdir ./data_for_yolo_face/data/labels\n",
        "!mkdir ./data_for_yolo_face/data/images/train\n",
        "!mkdir ./data_for_yolo_face/data/labels/train\n",
        "!mkdir ./data_for_yolo_face/data/images/test\n",
        "!mkdir ./data_for_yolo_face/data/labels/test"
      ],
      "metadata": {
        "id": "-kuRakvsHRzB"
      },
      "execution_count": 47,
      "outputs": []
    },
    {
      "cell_type": "code",
      "source": [
        "import yaml\n",
        "\n",
        "\n",
        "def create_yaml_cont_face():\n",
        "    \"\"\"\n",
        "        train: /content/drive/Shareddrives/data_drive/H_Tatarstan2022/data_for_yolo_face/data/images/train/\n",
        "        val: /content/drive/Shareddrives/data_drive/H_Tatarstan2022/data_for_yolo_face/data/images/test/\n",
        "\n",
        "        # number of classes\n",
        "        nc: 1\n",
        "\n",
        "        # class names\n",
        "        names: ['face']\n",
        "    \"\"\"\n",
        "\n",
        "    yaml_content = {\n",
        "        'train': '/content/drive/Shareddrives/data_drive/H_Tatarstan2022/data_for_yolo_face/data/images/train/',\n",
        "        'val': '/content/drive/Shareddrives/data_drive/H_Tatarstan2022/data_for_yolo_face/data/images/test/',\n",
        "        'nc': 1,\n",
        "        'names': ['face']\n",
        "    }\n",
        "\n",
        "    with open('./data_for_yolo_face/dataset.yaml', 'w') as f_yml:\n",
        "        yaml.dump(yaml_content, f_yml)\n",
        "\n",
        "create_yaml_cont_face()"
      ],
      "metadata": {
        "id": "6zuA50KnHR01"
      },
      "execution_count": 48,
      "outputs": []
    },
    {
      "cell_type": "markdown",
      "source": [
        "### Yolo transfer + shuffle"
      ],
      "metadata": {
        "id": "vB2fPfdaZ7Zv"
      }
    },
    {
      "cell_type": "code",
      "source": [
        "labels_names = os.listdir('./data/train/yolo_labels_face')\n",
        "len(labels_names)"
      ],
      "metadata": {
        "colab": {
          "base_uri": "https://localhost:8080/"
        },
        "id": "iDzQrp2YHR2m",
        "outputId": "a3535f37-5648-4bd9-d60f-4c940eebc977"
      },
      "execution_count": 49,
      "outputs": [
        {
          "output_type": "execute_result",
          "data": {
            "text/plain": [
              "630"
            ]
          },
          "metadata": {},
          "execution_count": 49
        }
      ]
    },
    {
      "cell_type": "code",
      "source": [
        "from sklearn.model_selection import train_test_split\n",
        "\n",
        "\n",
        "train_labels, test_labels = train_test_split(labels_names, test_size=0.25,\n",
        "                                             shuffle=True, random_state=59)\n",
        "\n",
        "len(train_labels), len(test_labels)"
      ],
      "metadata": {
        "colab": {
          "base_uri": "https://localhost:8080/"
        },
        "id": "l_RLXhdDHR4V",
        "outputId": "fc4f5df3-22ff-43d2-bb72-1eb2727d8cf3"
      },
      "execution_count": 50,
      "outputs": [
        {
          "output_type": "execute_result",
          "data": {
            "text/plain": [
              "(472, 158)"
            ]
          },
          "metadata": {},
          "execution_count": 50
        }
      ]
    },
    {
      "cell_type": "code",
      "source": [
        "train_labels = set(train_labels)\n",
        "test_labels = set(test_labels)\n",
        "\n",
        "len(train_labels), len(test_labels)"
      ],
      "metadata": {
        "colab": {
          "base_uri": "https://localhost:8080/"
        },
        "id": "QOsM9VieHR59",
        "outputId": "5c00c01c-ef59-4244-903e-d4c5111be3af"
      },
      "execution_count": 51,
      "outputs": [
        {
          "output_type": "execute_result",
          "data": {
            "text/plain": [
              "(472, 158)"
            ]
          },
          "metadata": {},
          "execution_count": 51
        }
      ]
    },
    {
      "cell_type": "code",
      "source": [
        "def copy_to_yolo_face():\n",
        "    old_path_img = './data/train/images/'\n",
        "    old_path_lbl = './data/train/yolo_labels_face/'\n",
        "    yolo_path_img = './data_for_yolo_face/data/images/'\n",
        "    yolo_path_lbl = './data_for_yolo_face/data/labels/'\n",
        "\n",
        "    for lbl_name in tqdm(os.listdir(old_path_lbl)):\n",
        "        image_name = lbl_name.split('.')[0] + '.jpg'\n",
        "        if lbl_name in train_labels:\n",
        "            copy(old_path_img + image_name, yolo_path_img + 'train/' + image_name)\n",
        "            copy(old_path_lbl + lbl_name, yolo_path_lbl + 'train/' + lbl_name)\n",
        "        elif lbl_name in test_labels:\n",
        "            copy(old_path_img + image_name, yolo_path_img + 'test/' + image_name)\n",
        "            copy(old_path_lbl + lbl_name, yolo_path_lbl + 'test/' + lbl_name)\n",
        "\n",
        "copy_to_yolo_face()"
      ],
      "metadata": {
        "colab": {
          "base_uri": "https://localhost:8080/"
        },
        "id": "-YwPF5xb9ER-",
        "outputId": "5e6155f0-7c20-4de6-caa0-19cda27e0ebd"
      },
      "execution_count": 52,
      "outputs": [
        {
          "output_type": "stream",
          "name": "stderr",
          "text": [
            "100%|██████████| 630/630 [03:39<00:00,  2.86it/s]\n"
          ]
        }
      ]
    },
    {
      "cell_type": "code",
      "source": [
        "len(os.listdir('./data_for_yolo_face/data/images/train')), len(os.listdir('./data_for_yolo_face/data/images/test'))"
      ],
      "metadata": {
        "colab": {
          "base_uri": "https://localhost:8080/"
        },
        "id": "kDyRongvaNo2",
        "outputId": "9f13c6d9-044d-4ee0-f7dc-f6aabea6cff8"
      },
      "execution_count": 53,
      "outputs": [
        {
          "output_type": "execute_result",
          "data": {
            "text/plain": [
              "(472, 158)"
            ]
          },
          "metadata": {},
          "execution_count": 53
        }
      ]
    },
    {
      "cell_type": "code",
      "source": [
        "len(os.listdir('./data_for_yolo_face/data/labels/train')), len(os.listdir('./data_for_yolo_face/data/labels/test'))"
      ],
      "metadata": {
        "colab": {
          "base_uri": "https://localhost:8080/"
        },
        "id": "MJa5cZgKaNrH",
        "outputId": "8adda0b6-efc8-4d3c-d6f5-0f0c6238bf05"
      },
      "execution_count": 54,
      "outputs": [
        {
          "output_type": "execute_result",
          "data": {
            "text/plain": [
              "(472, 158)"
            ]
          },
          "metadata": {},
          "execution_count": 54
        }
      ]
    },
    {
      "cell_type": "markdown",
      "source": [
        "## Машина/Госномер"
      ],
      "metadata": {
        "id": "1H5DfHldbmA-"
      }
    },
    {
      "cell_type": "markdown",
      "source": [
        "Прошлые модели показывали отличный скор на машинах и их госномерах, дополнительные данные не требуются"
      ],
      "metadata": {
        "id": "rP8kEuf9dgcF"
      }
    },
    {
      "cell_type": "code",
      "source": [
        "!mkdir ./data_for_yolo_car\n",
        "!mkdir ./data_for_yolo_car/data\n",
        "!mkdir ./data_for_yolo_car/data/images\n",
        "!mkdir ./data_for_yolo_car/data/labels\n",
        "!mkdir ./data_for_yolo_car/data/images/train\n",
        "!mkdir ./data_for_yolo_car/data/labels/train\n",
        "!mkdir ./data_for_yolo_car/data/images/test\n",
        "!mkdir ./data_for_yolo_car/data/labels/test"
      ],
      "metadata": {
        "id": "N1Y1rvXhaNtJ"
      },
      "execution_count": 55,
      "outputs": []
    },
    {
      "cell_type": "code",
      "source": [
        "def create_yaml_cont_car():\n",
        "    \"\"\"\n",
        "        train: /content/drive/Shareddrives/data_drive/H_Tatarstan2022/data_for_yolo_car/data/images/train/\n",
        "        val: /content/drive/Shareddrives/data_drive/H_Tatarstan2022/data_for_yolo_car/data/images/test/\n",
        "\n",
        "        # number of classes\n",
        "        nc: 2\n",
        "\n",
        "        # class names\n",
        "        names: ['car', 'carplate']\n",
        "    \"\"\"\n",
        "\n",
        "    yaml_content = {\n",
        "        'train': '/content/drive/Shareddrives/data_drive/H_Tatarstan2022/data_for_yolo_car/data/images/train/',\n",
        "        'val': '/content/drive/Shareddrives/data_drive/H_Tatarstan2022/data_for_yolo_car/data/images/test/',\n",
        "        'nc': 2,\n",
        "        'names': ['car', 'carplate']\n",
        "    }\n",
        "\n",
        "    with open('./data_for_yolo_car/dataset.yaml', 'w') as f_yml:\n",
        "        yaml.dump(yaml_content, f_yml)\n",
        "\n",
        "create_yaml_cont_car()"
      ],
      "metadata": {
        "id": "pXa4Rv6maNvn"
      },
      "execution_count": 56,
      "outputs": []
    },
    {
      "cell_type": "markdown",
      "source": [
        "### Yolo transfer + shuffle"
      ],
      "metadata": {
        "id": "vCZuse7Id-gY"
      }
    },
    {
      "cell_type": "code",
      "source": [
        "labels_names = os.listdir('./data/train/yolo_labels_car')\n",
        "len(labels_names)"
      ],
      "metadata": {
        "colab": {
          "base_uri": "https://localhost:8080/"
        },
        "id": "lM1xX4YdaNyP",
        "outputId": "e5879ef5-3f18-453e-da03-d89727e03e2c"
      },
      "execution_count": 57,
      "outputs": [
        {
          "output_type": "execute_result",
          "data": {
            "text/plain": [
              "1893"
            ]
          },
          "metadata": {},
          "execution_count": 57
        }
      ]
    },
    {
      "cell_type": "code",
      "source": [
        "train_labels, test_labels = train_test_split(labels_names, test_size=0.25,\n",
        "                                             shuffle=True, random_state=59)\n",
        "\n",
        "len(train_labels), len(test_labels)"
      ],
      "metadata": {
        "colab": {
          "base_uri": "https://localhost:8080/"
        },
        "id": "kdtzs5n5aN0J",
        "outputId": "b985e23a-fb18-4a8f-f558-d5e9fad04fef"
      },
      "execution_count": 58,
      "outputs": [
        {
          "output_type": "execute_result",
          "data": {
            "text/plain": [
              "(1419, 474)"
            ]
          },
          "metadata": {},
          "execution_count": 58
        }
      ]
    },
    {
      "cell_type": "code",
      "source": [
        "train_labels = set(train_labels)\n",
        "test_labels = set(test_labels)\n",
        "\n",
        "len(train_labels), len(test_labels)"
      ],
      "metadata": {
        "colab": {
          "base_uri": "https://localhost:8080/"
        },
        "id": "tJ9PILTAaN2B",
        "outputId": "8b9dcf84-c6ce-40b1-a282-909436c20bad"
      },
      "execution_count": 59,
      "outputs": [
        {
          "output_type": "execute_result",
          "data": {
            "text/plain": [
              "(1419, 474)"
            ]
          },
          "metadata": {},
          "execution_count": 59
        }
      ]
    },
    {
      "cell_type": "code",
      "source": [
        "def copy_to_yolo_car():\n",
        "    old_path_img = './data/train/images/'\n",
        "    old_path_lbl = './data/train/yolo_labels_car/'\n",
        "    yolo_path_img = './data_for_yolo_car/data/images/'\n",
        "    yolo_path_lbl = './data_for_yolo_car/data/labels/'\n",
        "\n",
        "    for lbl_name in tqdm(os.listdir(old_path_lbl)):\n",
        "        image_name = lbl_name.split('.')[0] + '.jpg'\n",
        "        if lbl_name in train_labels:\n",
        "            copy(old_path_img + image_name, yolo_path_img + 'train/' + image_name)\n",
        "            copy(old_path_lbl + lbl_name, yolo_path_lbl + 'train/' + lbl_name)\n",
        "        elif lbl_name in test_labels:\n",
        "            copy(old_path_img + image_name, yolo_path_img + 'test/' + image_name)\n",
        "            copy(old_path_lbl + lbl_name, yolo_path_lbl + 'test/' + lbl_name)\n",
        "\n",
        "copy_to_yolo_car()"
      ],
      "metadata": {
        "colab": {
          "base_uri": "https://localhost:8080/"
        },
        "id": "Gup9092daN3g",
        "outputId": "3dc6580b-a4f7-444e-b6e0-5d6422ea854d"
      },
      "execution_count": null,
      "outputs": [
        {
          "output_type": "stream",
          "name": "stderr",
          "text": [
            " 54%|█████▍    | 1025/1893 [04:43<03:53,  3.72it/s]"
          ]
        }
      ]
    },
    {
      "cell_type": "code",
      "source": [
        "len(os.listdir('./data_for_yolo_car/data/images/train')), len(os.listdir('./data_for_yolo_car/data/images/test'))"
      ],
      "metadata": {
        "id": "Ei9x3swEaN5v"
      },
      "execution_count": null,
      "outputs": []
    },
    {
      "cell_type": "code",
      "source": [
        "len(os.listdir('./data_for_yolo_car/data/labels/train')), len(os.listdir('./data_for_yolo_car/data/labels/test'))"
      ],
      "metadata": {
        "id": "X9upCFFLaN7h"
      },
      "execution_count": null,
      "outputs": []
    }
  ]
}