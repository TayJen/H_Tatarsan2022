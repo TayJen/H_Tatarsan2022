{
  "nbformat": 4,
  "nbformat_minor": 0,
  "metadata": {
    "colab": {
      "name": "H_Tatarstan2022_Yolov7x_Multi_data_preparing.ipynb",
      "provenance": [],
      "collapsed_sections": [],
      "mount_file_id": "1Slv1vvkMhymwAqn8nVU6atR9rSf1eu4j",
      "authorship_tag": "ABX9TyPZxyNMxNAguzg32luodww/",
      "include_colab_link": true
    },
    "kernelspec": {
      "name": "python3",
      "display_name": "Python 3"
    },
    "language_info": {
      "name": "python"
    }
  },
  "cells": [
    {
      "cell_type": "markdown",
      "metadata": {
        "id": "view-in-github",
        "colab_type": "text"
      },
      "source": [
        "<a href=\"https://colab.research.google.com/github/TayJen/H_Tatarsan2022/blob/main/H_Tatarstan2022_Yolov7x_Multi_data_preparing.ipynb\" target=\"_parent\"><img src=\"https://colab.research.google.com/assets/colab-badge.svg\" alt=\"Open In Colab\"/></a>"
      ]
    },
    {
      "cell_type": "markdown",
      "source": [
        "В данном ноутбуке помимо использования доступных на соревновании данных будет использован общедоступный датасет с сайта: [CrowdHuman](https://www.crowdhuman.org/)"
      ],
      "metadata": {
        "id": "YDQPQjQR0qdJ"
      }
    },
    {
      "cell_type": "markdown",
      "source": [
        "При обучении модели на столь обильных данных используется свой общий диск, с огромной памятью, вся информация будет сохранена на нем"
      ],
      "metadata": {
        "id": "hw1lPMdV1Dmm"
      }
    },
    {
      "cell_type": "markdown",
      "source": [
        "### Подготовка диска + скачивание файлов"
      ],
      "metadata": {
        "id": "SsVLvf_I1MJz"
      }
    },
    {
      "cell_type": "code",
      "source": [
        "%cd /content/drive/Shareddrives/data_drive\n",
        "!pwd"
      ],
      "metadata": {
        "colab": {
          "base_uri": "https://localhost:8080/"
        },
        "id": "MLIGGxcD1Oh-",
        "outputId": "132f37d1-456c-4b38-e0ee-b95e1fb031a5"
      },
      "execution_count": 1,
      "outputs": [
        {
          "output_type": "stream",
          "name": "stdout",
          "text": [
            "/content/drive/Shareddrives/data_drive\n",
            "/content/drive/Shareddrives/data_drive\n"
          ]
        }
      ]
    },
    {
      "cell_type": "code",
      "source": [
        "!mkdir H_Tatarstan2022\n",
        "%cd ./H_Tatarstan2022\n",
        "!pwd"
      ],
      "metadata": {
        "colab": {
          "base_uri": "https://localhost:8080/"
        },
        "id": "DrvCGPEO1O-0",
        "outputId": "ef7c23f1-3012-455d-9521-f34f29ebaf1d"
      },
      "execution_count": 2,
      "outputs": [
        {
          "output_type": "stream",
          "name": "stdout",
          "text": [
            "/content/drive/Shareddrives/data_drive/H_Tatarstan2022\n",
            "/content/drive/Shareddrives/data_drive/H_Tatarstan2022\n"
          ]
        }
      ]
    },
    {
      "cell_type": "markdown",
      "source": [
        "Открывая данные на сайте можно проверить уникальные айди файлов, для того чтобы скачать их здесь, без ручного скачивания.\n",
        "\n",
        "Айди файлов:\n",
        "\n",
        "\n",
        "*   Train Part #1: `134QOvaatwKdy0iIeNqA_p-xkAhkV4F8Y`\n",
        "*   Train Part #2: `17evzPh7gc1JBNvnW1ENXLy5Kr4Q_Nnla`\n",
        "*   Train Part #3: `1tdp0UCgxrqy1B6p8LkR-Iy0aIJ8l4fJW`\n",
        "*   Annotation Train: `1UUTea5mYqvlUObsC1Z8CFldHJAtLtMX3`\n",
        "\n"
      ],
      "metadata": {
        "id": "j9vbfjLM15iG"
      }
    },
    {
      "cell_type": "markdown",
      "source": [
        "Вспомогательные ссылки:\n",
        "\n",
        "\n",
        "*   [Downloading data from a shared google drive link in google colab](https://stackoverflow.com/questions/62759748/downloading-data-from-a-shared-google-drive-link-in-google-colab)\n",
        "*   [Gdown official documentation](https://github.com/wkentaro/gdown)"
      ],
      "metadata": {
        "id": "8xiZlLwt2jf2"
      }
    },
    {
      "cell_type": "code",
      "source": [
        "import gdown\n",
        "\n",
        "ids = ['134QOvaatwKdy0iIeNqA_p-xkAhkV4F8Y',\n",
        "       '17evzPh7gc1JBNvnW1ENXLy5Kr4Q_Nnla',\n",
        "       '1tdp0UCgxrqy1B6p8LkR-Iy0aIJ8l4fJW',\n",
        "       '1UUTea5mYqvlUObsC1Z8CFldHJAtLtMX3']\n",
        "\n",
        "for id in ids:\n",
        "    gdown.download(id=id, quiet=False)"
      ],
      "metadata": {
        "colab": {
          "base_uri": "https://localhost:8080/"
        },
        "id": "AAYTKiVp1PCq",
        "outputId": "5579d04a-a14c-4204-89a3-95b9945530d5"
      },
      "execution_count": 5,
      "outputs": [
        {
          "output_type": "stream",
          "name": "stderr",
          "text": [
            "Downloading...\n",
            "From: https://drive.google.com/uc?id=134QOvaatwKdy0iIeNqA_p-xkAhkV4F8Y\n",
            "To: /content/drive/Shareddrives/data_drive/H_Tatarstan2022/CrowdHuman_train01.zip\n",
            "100%|██████████| 2.97G/2.97G [00:37<00:00, 79.4MB/s]\n",
            "Downloading...\n",
            "From: https://drive.google.com/uc?id=17evzPh7gc1JBNvnW1ENXLy5Kr4Q_Nnla\n",
            "To: /content/drive/Shareddrives/data_drive/H_Tatarstan2022/CrowdHuman_train02.zip\n",
            "100%|██████████| 3.09G/3.09G [00:57<00:00, 53.9MB/s]\n",
            "Downloading...\n",
            "From: https://drive.google.com/uc?id=1tdp0UCgxrqy1B6p8LkR-Iy0aIJ8l4fJW\n",
            "To: /content/drive/Shareddrives/data_drive/H_Tatarstan2022/CrowdHuman_train03.zip\n",
            "100%|██████████| 2.31G/2.31G [00:34<00:00, 67.4MB/s]\n",
            "Downloading...\n",
            "From: https://drive.google.com/uc?id=1UUTea5mYqvlUObsC1Z8CFldHJAtLtMX3\n",
            "To: /content/drive/Shareddrives/data_drive/H_Tatarstan2022/annotation_train.odgt\n",
            "100%|██████████| 80.0M/80.0M [00:02<00:00, 31.8MB/s]\n"
          ]
        }
      ]
    },
    {
      "cell_type": "code",
      "source": [
        "!ls"
      ],
      "metadata": {
        "colab": {
          "base_uri": "https://localhost:8080/"
        },
        "id": "ozE85tJv1PEo",
        "outputId": "9c36f9fe-933e-43f8-fbbb-7fc60c1a1d3c"
      },
      "execution_count": 6,
      "outputs": [
        {
          "output_type": "stream",
          "name": "stdout",
          "text": [
            "annotation_train.odgt\tCrowdHuman_train02.zip\n",
            "CrowdHuman_train01.zip\tCrowdHuman_train03.zip\n"
          ]
        }
      ]
    },
    {
      "cell_type": "code",
      "source": [
        "!mkdir ./add_data\n",
        "!mkdir ./add_data/zipped\n",
        "!mkdir ./add_data/unzipped\n",
        "!mkdir ./add_data/annotations\n",
        "!mv CrowdHuman_train01.zip ./add_data/zipped\n",
        "!mv CrowdHuman_train02.zip ./add_data/zipped\n",
        "!mv CrowdHuman_train03.zip ./add_data/zipped\n",
        "!mv annotation_train.odgt ./add_data/annotations"
      ],
      "metadata": {
        "id": "kldP8FNj1PGs"
      },
      "execution_count": 7,
      "outputs": []
    },
    {
      "cell_type": "code",
      "source": [
        "!unzip ./add_data/zipped/CrowdHuman_train01.zip -d ./add_data/unzipped\n",
        "!unzip ./add_data/zipped/CrowdHuman_train02.zip -d ./add_data/unzipped\n",
        "!unzip ./add_data/zipped/CrowdHuman_train03.zip -d ./add_data/unzipped"
      ],
      "metadata": {
        "id": "TuAwUc321PII"
      },
      "execution_count": null,
      "outputs": []
    },
    {
      "cell_type": "markdown",
      "source": [
        "## Конвертация аннотаций в Yolo формат"
      ],
      "metadata": {
        "id": "SsylsuYNHNFQ"
      }
    },
    {
      "cell_type": "markdown",
      "source": [
        "Далее нам необходимо трансформировать используемые аннотации в Yolo формат, так как обучаться будет state-of-the-art Yolov7x"
      ],
      "metadata": {
        "id": "OBPrQo338auL"
      }
    },
    {
      "cell_type": "markdown",
      "source": [
        "Вспомогательные ссылочки:\n",
        "\n",
        "\n",
        "*   [Convert CrowdHuman dataset to Yolo annotations](https://gist.github.com/adujardin/62653118466962264aa0c6339c3e9cf5)\n",
        "*   [crowdhuman_train_anno.py](https://github.com/alaksana96/darknet-crowdhuman/blob/master/crowdhuman_train_anno.py)"
      ],
      "metadata": {
        "id": "TmmfsvDY82yd"
      }
    },
    {
      "cell_type": "code",
      "execution_count": 9,
      "metadata": {
        "id": "Qrq-Xfs50kRu"
      },
      "outputs": [],
      "source": [
        "!mkdir ./add_data/unzipped/Yolo_labels"
      ]
    },
    {
      "cell_type": "code",
      "source": [
        "import numpy\n",
        "import cv2\n",
        "from multiprocessing import Process, Manager\n",
        "import yaml\n",
        "from tqdm import tqdm\n",
        "\n",
        "intPERSON = 0\n",
        "intHEAD   = 1\n",
        "\n",
        "manager = Manager()\n",
        "return_dict = manager.dict()\n",
        "return_dict"
      ],
      "metadata": {
        "colab": {
          "base_uri": "https://localhost:8080/"
        },
        "id": "jZiPPe8p9EKW",
        "outputId": "b7d8bb88-7a9d-4f87-8a34-94b43e82a055"
      },
      "execution_count": 11,
      "outputs": [
        {
          "output_type": "execute_result",
          "data": {
            "text/plain": [
              "<DictProxy object, typeid 'dict' at 0x7f7d08f19210>"
            ]
          },
          "metadata": {},
          "execution_count": 11
        }
      ]
    },
    {
      "cell_type": "code",
      "source": [
        "def generate_annotations(ii, return_dict):\n",
        "    line = return_dict[ii]\n",
        "    del return_dict[ii]\n",
        "    \n",
        "    dictLine = yaml.load(line)\n",
        "\n",
        "    strID = dictLine['ID']\n",
        "\n",
        "    img = cv2.imread('./add_data/unzipped/Images/{}.jpg'.format(strID), 1)\n",
        "\n",
        "    imgWidth  = img.shape[1]\n",
        "    imgHeight = img.shape[0]\n",
        "\n",
        "    # Create .txt label file\n",
        "    with open('./add_data/unzipped/Yolo_labels/{}.txt'.format(strID), 'w+') as txtf:\n",
        "\n",
        "        for label in dictLine['gtboxes']:\n",
        "\n",
        "            if 'extra' in label and 'ignore' in label['extra'] and label['extra']['ignore'] == 1:\n",
        "                continue\n",
        "            if 'extra' in label and 'unsure' in label['extra'] and label['extra']['unsure'] == 1:\n",
        "                continue \n",
        "\n",
        "            # Person BB\n",
        "            px = float(label['fbox'][0])\n",
        "            py = float(label['fbox'][1])\n",
        "            pw = float(label['fbox'][2])\n",
        "            ph = float(label['fbox'][3])\n",
        "\n",
        "            # Head BB\n",
        "            hx = float(label['hbox'][0])\n",
        "            hy = float(label['hbox'][1])\n",
        "            hw = float(label['hbox'][2])\n",
        "            hh = float(label['hbox'][3])\n",
        "\n",
        "            # Absolute person BB\n",
        "            cpx = px + pw / 2\n",
        "            cpy = py + ph / 2\n",
        "\n",
        "            abspx = cpx / imgWidth\n",
        "            abspy = cpy / imgHeight\n",
        "            abspw = pw / imgWidth\n",
        "            absph = ph / imgHeight  \n",
        "\n",
        "            abspx = 1 if abspx > 1 else abspx\n",
        "            abspy = 1 if abspy > 1 else abspy\n",
        "            abspw = 1 if abspw > 1 else abspw\n",
        "            absph = 1 if absph > 1 else absph\n",
        "            abspx = 0.000001 if abspx < 0 else abspx\n",
        "            abspy = 0.000001 if abspy < 0 else abspy\n",
        "            abspw = 0.000001 if abspw < 0 else abspw\n",
        "            absph = 0.000001 if absph < 0 else absph\n",
        "\n",
        "            # Absolute head BB\n",
        "            chx = hx + hw / 2\n",
        "            chy = hy + hh / 2\n",
        "\n",
        "            abshx = chx / imgWidth\n",
        "            abshy = chy / imgHeight\n",
        "            abshw = hw / imgWidth\n",
        "            abshh = hh / imgHeight  \n",
        "\n",
        "            abshx = 1 if abshx > 1 else abshx\n",
        "            abshy = 1 if abshy > 1 else abshy\n",
        "            abshw = 1 if abshw > 1 else abshw\n",
        "            abshh = 1 if abshh > 1 else abshh\n",
        "            abshx = 0.000001 if abshx < 0 else abshx\n",
        "            abshy = 0.000001 if abshy < 0 else abshy\n",
        "            abshw = 0.000001 if abshw < 0 else abshw\n",
        "            abshh = 0.000001 if abshh < 0 else abshh\n",
        "\n",
        "            # Write to file\n",
        "            txtf.write('{} {:.6f} {:.6f} {:.6f} {:.6f}\\n'.format(intPERSON,\n",
        "                                                                 abspx,\n",
        "                                                                 abspy,\n",
        "                                                                 abspw,\n",
        "                                                                 absph))\n",
        "\n",
        "            txtf.write('{} {:.6f} {:.6f} {:.6f} {:.6f}\\n'.format(intHEAD,\n",
        "                                                                 abshx,\n",
        "                                                                 abshy,\n",
        "                                                                 abshw,\n",
        "                                                                 abshh))"
      ],
      "metadata": {
        "id": "Ge503m2x9EMH"
      },
      "execution_count": 12,
      "outputs": []
    },
    {
      "cell_type": "code",
      "source": [
        "with open('./add_data/annotations/annotation_train.odgt') as f:\n",
        "        \n",
        "    processes = []\n",
        "    max_iter = 500\n",
        "\n",
        "    for ii, line in tqdm(enumerate(f)): \n",
        "        return_dict[ii] = line\n",
        "        pcs = Process(target=generate_annotations,\n",
        "                      args=(ii, return_dict))\n",
        "        processes.append(pcs)\n",
        "        pcs.start()\n",
        "        \n",
        "        if ii % max_iter == 0:\n",
        "            for jj in range(len(processes)):    \n",
        "                processes[jj].join()  \n",
        "\n",
        "            processes = []\n",
        "            \n",
        "    for jj in range(len(processes)):    \n",
        "        processes[jj].join()      \n",
        "        \n",
        "    processes = []"
      ],
      "metadata": {
        "colab": {
          "base_uri": "https://localhost:8080/"
        },
        "id": "_OByPdG99EON",
        "outputId": "3389f4a1-3864-4fe8-87df-a8a1e250bd76"
      },
      "execution_count": null,
      "outputs": [
        {
          "output_type": "stream",
          "name": "stderr",
          "text": [
            "10825it [24:28, 10.29it/s]"
          ]
        }
      ]
    },
    {
      "cell_type": "code",
      "source": [
        ""
      ],
      "metadata": {
        "id": "bU_YBZik9EQH"
      },
      "execution_count": null,
      "outputs": []
    },
    {
      "cell_type": "code",
      "source": [
        ""
      ],
      "metadata": {
        "id": "-41UQQZ3HRs9"
      },
      "execution_count": null,
      "outputs": []
    },
    {
      "cell_type": "code",
      "source": [
        ""
      ],
      "metadata": {
        "id": "euPYSrceHRu4"
      },
      "execution_count": null,
      "outputs": []
    },
    {
      "cell_type": "code",
      "source": [
        ""
      ],
      "metadata": {
        "id": "e0vK99nOHRxC"
      },
      "execution_count": null,
      "outputs": []
    },
    {
      "cell_type": "code",
      "source": [
        ""
      ],
      "metadata": {
        "id": "-kuRakvsHRzB"
      },
      "execution_count": null,
      "outputs": []
    },
    {
      "cell_type": "code",
      "source": [
        ""
      ],
      "metadata": {
        "id": "6zuA50KnHR01"
      },
      "execution_count": null,
      "outputs": []
    },
    {
      "cell_type": "code",
      "source": [
        ""
      ],
      "metadata": {
        "id": "iDzQrp2YHR2m"
      },
      "execution_count": null,
      "outputs": []
    },
    {
      "cell_type": "code",
      "source": [
        ""
      ],
      "metadata": {
        "id": "l_RLXhdDHR4V"
      },
      "execution_count": null,
      "outputs": []
    },
    {
      "cell_type": "code",
      "source": [
        ""
      ],
      "metadata": {
        "id": "QOsM9VieHR59"
      },
      "execution_count": null,
      "outputs": []
    },
    {
      "cell_type": "code",
      "source": [
        ""
      ],
      "metadata": {
        "id": "-YwPF5xb9ER-"
      },
      "execution_count": null,
      "outputs": []
    }
  ]
}