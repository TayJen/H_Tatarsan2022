{
  "nbformat": 4,
  "nbformat_minor": 0,
  "metadata": {
    "colab": {
      "name": "H_Tatarstan2022_base.ipynb",
      "provenance": [],
      "mount_file_id": "1OAW0nvLpOeYFHt3anNM_w0zvwywHO7B1",
      "authorship_tag": "ABX9TyPk6cgIKKe3dcZfdso6lhT5",
      "include_colab_link": true
    },
    "kernelspec": {
      "name": "python3",
      "display_name": "Python 3"
    },
    "language_info": {
      "name": "python"
    }
  },
  "cells": [
    {
      "cell_type": "markdown",
      "metadata": {
        "id": "view-in-github",
        "colab_type": "text"
      },
      "source": [
        "<a href=\"https://colab.research.google.com/github/TayJen/H_Tatarsan2022/blob/main/H_Tatarstan2022_base.ipynb\" target=\"_parent\"><img src=\"https://colab.research.google.com/assets/colab-badge.svg\" alt=\"Open In Colab\"/></a>"
      ]
    },
    {
      "cell_type": "markdown",
      "source": [
        "### Импорт библиотек"
      ],
      "metadata": {
        "id": "qvJRg787uoh5"
      }
    },
    {
      "cell_type": "code",
      "source": [
        "import os\n",
        "import pandas as pd\n",
        "import numpy as np\n",
        "\n",
        "np.random.seed(59)"
      ],
      "metadata": {
        "id": "ugHX4tp5uq5x"
      },
      "execution_count": 1,
      "outputs": []
    },
    {
      "cell_type": "markdown",
      "source": [
        "### Пример решения"
      ],
      "metadata": {
        "id": "7hQ1HtMIuvED"
      }
    },
    {
      "cell_type": "code",
      "execution_count": 2,
      "metadata": {
        "colab": {
          "base_uri": "https://localhost:8080/",
          "height": 520
        },
        "id": "amt7BkzWmau-",
        "outputId": "e1da27a5-5e98-4b6f-db95-45e77e476cfd"
      },
      "outputs": [
        {
          "output_type": "execute_result",
          "data": {
            "text/plain": [
              "                       ImageID  LabelName      Conf      XMin      XMax  \\\n",
              "0   24-11-2021_05-31-51_AM.jpg          3  0.825893  0.035938  0.053646   \n",
              "1   25-11-2021_06-10-03_AM.jpg          3  0.917864  0.718750  0.763392   \n",
              "2   24-11-2021_09-05-00_AM.jpg          3  0.536900  0.571484  0.587500   \n",
              "3   24-11-2021_09-05-00_AM.jpg          3  0.712740  0.873438  0.892578   \n",
              "4   24-11-2021_09-05-00_AM.jpg          3  0.770197  0.895703  0.915235   \n",
              "5   24-11-2021_09-05-00_AM.jpg          3  0.786203  0.682031  0.700391   \n",
              "6   24-11-2021_09-05-00_AM.jpg          3  0.829074  0.642969  0.670313   \n",
              "7   24-11-2021_02-42-46_PM.jpg          3  0.529614  0.328497  0.347471   \n",
              "8   24-11-2021_02-42-46_PM.jpg          3  0.827705  0.313244  0.332218   \n",
              "9   23-11-2021_05-36-22_PM.jpg          3  0.872894  0.205729  0.242709   \n",
              "10  26-11-2021_08-06-03_AM.jpg          3  0.448885  0.629166  0.646354   \n",
              "11  26-11-2021_08-06-03_AM.jpg          3  0.633642  0.873959  0.883333   \n",
              "12  26-11-2021_08-06-03_AM.jpg          3  0.883807  0.858334  0.872396   \n",
              "13  26-11-2021_08-06-03_AM.jpg          3  0.929388  0.196875  0.233333   \n",
              "14  25-11-2021_03-27-49_AM.jpg          3  0.871936  0.864062  0.882292   \n",
              "\n",
              "        YMin      YMax  \n",
              "0   0.305556  0.373148  \n",
              "1   0.169737  0.357895  \n",
              "2   0.320139  0.389583  \n",
              "3   0.313195  0.398611  \n",
              "4   0.325695  0.408333  \n",
              "5   0.306945  0.395833  \n",
              "6   0.422222  0.554166  \n",
              "7   0.144737  0.223027  \n",
              "8   0.136184  0.226974  \n",
              "9   0.263889  0.365741  \n",
              "10  0.330555  0.386111  \n",
              "11  0.225000  0.268518  \n",
              "12  0.300926  0.369444  \n",
              "13  0.602778  0.746297  \n",
              "14  0.291666  0.371296  "
            ],
            "text/html": [
              "\n",
              "  <div id=\"df-189c336f-1fb4-4d20-adfc-699c7f7252ab\">\n",
              "    <div class=\"colab-df-container\">\n",
              "      <div>\n",
              "<style scoped>\n",
              "    .dataframe tbody tr th:only-of-type {\n",
              "        vertical-align: middle;\n",
              "    }\n",
              "\n",
              "    .dataframe tbody tr th {\n",
              "        vertical-align: top;\n",
              "    }\n",
              "\n",
              "    .dataframe thead th {\n",
              "        text-align: right;\n",
              "    }\n",
              "</style>\n",
              "<table border=\"1\" class=\"dataframe\">\n",
              "  <thead>\n",
              "    <tr style=\"text-align: right;\">\n",
              "      <th></th>\n",
              "      <th>ImageID</th>\n",
              "      <th>LabelName</th>\n",
              "      <th>Conf</th>\n",
              "      <th>XMin</th>\n",
              "      <th>XMax</th>\n",
              "      <th>YMin</th>\n",
              "      <th>YMax</th>\n",
              "    </tr>\n",
              "  </thead>\n",
              "  <tbody>\n",
              "    <tr>\n",
              "      <th>0</th>\n",
              "      <td>24-11-2021_05-31-51_AM.jpg</td>\n",
              "      <td>3</td>\n",
              "      <td>0.825893</td>\n",
              "      <td>0.035938</td>\n",
              "      <td>0.053646</td>\n",
              "      <td>0.305556</td>\n",
              "      <td>0.373148</td>\n",
              "    </tr>\n",
              "    <tr>\n",
              "      <th>1</th>\n",
              "      <td>25-11-2021_06-10-03_AM.jpg</td>\n",
              "      <td>3</td>\n",
              "      <td>0.917864</td>\n",
              "      <td>0.718750</td>\n",
              "      <td>0.763392</td>\n",
              "      <td>0.169737</td>\n",
              "      <td>0.357895</td>\n",
              "    </tr>\n",
              "    <tr>\n",
              "      <th>2</th>\n",
              "      <td>24-11-2021_09-05-00_AM.jpg</td>\n",
              "      <td>3</td>\n",
              "      <td>0.536900</td>\n",
              "      <td>0.571484</td>\n",
              "      <td>0.587500</td>\n",
              "      <td>0.320139</td>\n",
              "      <td>0.389583</td>\n",
              "    </tr>\n",
              "    <tr>\n",
              "      <th>3</th>\n",
              "      <td>24-11-2021_09-05-00_AM.jpg</td>\n",
              "      <td>3</td>\n",
              "      <td>0.712740</td>\n",
              "      <td>0.873438</td>\n",
              "      <td>0.892578</td>\n",
              "      <td>0.313195</td>\n",
              "      <td>0.398611</td>\n",
              "    </tr>\n",
              "    <tr>\n",
              "      <th>4</th>\n",
              "      <td>24-11-2021_09-05-00_AM.jpg</td>\n",
              "      <td>3</td>\n",
              "      <td>0.770197</td>\n",
              "      <td>0.895703</td>\n",
              "      <td>0.915235</td>\n",
              "      <td>0.325695</td>\n",
              "      <td>0.408333</td>\n",
              "    </tr>\n",
              "    <tr>\n",
              "      <th>5</th>\n",
              "      <td>24-11-2021_09-05-00_AM.jpg</td>\n",
              "      <td>3</td>\n",
              "      <td>0.786203</td>\n",
              "      <td>0.682031</td>\n",
              "      <td>0.700391</td>\n",
              "      <td>0.306945</td>\n",
              "      <td>0.395833</td>\n",
              "    </tr>\n",
              "    <tr>\n",
              "      <th>6</th>\n",
              "      <td>24-11-2021_09-05-00_AM.jpg</td>\n",
              "      <td>3</td>\n",
              "      <td>0.829074</td>\n",
              "      <td>0.642969</td>\n",
              "      <td>0.670313</td>\n",
              "      <td>0.422222</td>\n",
              "      <td>0.554166</td>\n",
              "    </tr>\n",
              "    <tr>\n",
              "      <th>7</th>\n",
              "      <td>24-11-2021_02-42-46_PM.jpg</td>\n",
              "      <td>3</td>\n",
              "      <td>0.529614</td>\n",
              "      <td>0.328497</td>\n",
              "      <td>0.347471</td>\n",
              "      <td>0.144737</td>\n",
              "      <td>0.223027</td>\n",
              "    </tr>\n",
              "    <tr>\n",
              "      <th>8</th>\n",
              "      <td>24-11-2021_02-42-46_PM.jpg</td>\n",
              "      <td>3</td>\n",
              "      <td>0.827705</td>\n",
              "      <td>0.313244</td>\n",
              "      <td>0.332218</td>\n",
              "      <td>0.136184</td>\n",
              "      <td>0.226974</td>\n",
              "    </tr>\n",
              "    <tr>\n",
              "      <th>9</th>\n",
              "      <td>23-11-2021_05-36-22_PM.jpg</td>\n",
              "      <td>3</td>\n",
              "      <td>0.872894</td>\n",
              "      <td>0.205729</td>\n",
              "      <td>0.242709</td>\n",
              "      <td>0.263889</td>\n",
              "      <td>0.365741</td>\n",
              "    </tr>\n",
              "    <tr>\n",
              "      <th>10</th>\n",
              "      <td>26-11-2021_08-06-03_AM.jpg</td>\n",
              "      <td>3</td>\n",
              "      <td>0.448885</td>\n",
              "      <td>0.629166</td>\n",
              "      <td>0.646354</td>\n",
              "      <td>0.330555</td>\n",
              "      <td>0.386111</td>\n",
              "    </tr>\n",
              "    <tr>\n",
              "      <th>11</th>\n",
              "      <td>26-11-2021_08-06-03_AM.jpg</td>\n",
              "      <td>3</td>\n",
              "      <td>0.633642</td>\n",
              "      <td>0.873959</td>\n",
              "      <td>0.883333</td>\n",
              "      <td>0.225000</td>\n",
              "      <td>0.268518</td>\n",
              "    </tr>\n",
              "    <tr>\n",
              "      <th>12</th>\n",
              "      <td>26-11-2021_08-06-03_AM.jpg</td>\n",
              "      <td>3</td>\n",
              "      <td>0.883807</td>\n",
              "      <td>0.858334</td>\n",
              "      <td>0.872396</td>\n",
              "      <td>0.300926</td>\n",
              "      <td>0.369444</td>\n",
              "    </tr>\n",
              "    <tr>\n",
              "      <th>13</th>\n",
              "      <td>26-11-2021_08-06-03_AM.jpg</td>\n",
              "      <td>3</td>\n",
              "      <td>0.929388</td>\n",
              "      <td>0.196875</td>\n",
              "      <td>0.233333</td>\n",
              "      <td>0.602778</td>\n",
              "      <td>0.746297</td>\n",
              "    </tr>\n",
              "    <tr>\n",
              "      <th>14</th>\n",
              "      <td>25-11-2021_03-27-49_AM.jpg</td>\n",
              "      <td>3</td>\n",
              "      <td>0.871936</td>\n",
              "      <td>0.864062</td>\n",
              "      <td>0.882292</td>\n",
              "      <td>0.291666</td>\n",
              "      <td>0.371296</td>\n",
              "    </tr>\n",
              "  </tbody>\n",
              "</table>\n",
              "</div>\n",
              "      <button class=\"colab-df-convert\" onclick=\"convertToInteractive('df-189c336f-1fb4-4d20-adfc-699c7f7252ab')\"\n",
              "              title=\"Convert this dataframe to an interactive table.\"\n",
              "              style=\"display:none;\">\n",
              "        \n",
              "  <svg xmlns=\"http://www.w3.org/2000/svg\" height=\"24px\"viewBox=\"0 0 24 24\"\n",
              "       width=\"24px\">\n",
              "    <path d=\"M0 0h24v24H0V0z\" fill=\"none\"/>\n",
              "    <path d=\"M18.56 5.44l.94 2.06.94-2.06 2.06-.94-2.06-.94-.94-2.06-.94 2.06-2.06.94zm-11 1L8.5 8.5l.94-2.06 2.06-.94-2.06-.94L8.5 2.5l-.94 2.06-2.06.94zm10 10l.94 2.06.94-2.06 2.06-.94-2.06-.94-.94-2.06-.94 2.06-2.06.94z\"/><path d=\"M17.41 7.96l-1.37-1.37c-.4-.4-.92-.59-1.43-.59-.52 0-1.04.2-1.43.59L10.3 9.45l-7.72 7.72c-.78.78-.78 2.05 0 2.83L4 21.41c.39.39.9.59 1.41.59.51 0 1.02-.2 1.41-.59l7.78-7.78 2.81-2.81c.8-.78.8-2.07 0-2.86zM5.41 20L4 18.59l7.72-7.72 1.47 1.35L5.41 20z\"/>\n",
              "  </svg>\n",
              "      </button>\n",
              "      \n",
              "  <style>\n",
              "    .colab-df-container {\n",
              "      display:flex;\n",
              "      flex-wrap:wrap;\n",
              "      gap: 12px;\n",
              "    }\n",
              "\n",
              "    .colab-df-convert {\n",
              "      background-color: #E8F0FE;\n",
              "      border: none;\n",
              "      border-radius: 50%;\n",
              "      cursor: pointer;\n",
              "      display: none;\n",
              "      fill: #1967D2;\n",
              "      height: 32px;\n",
              "      padding: 0 0 0 0;\n",
              "      width: 32px;\n",
              "    }\n",
              "\n",
              "    .colab-df-convert:hover {\n",
              "      background-color: #E2EBFA;\n",
              "      box-shadow: 0px 1px 2px rgba(60, 64, 67, 0.3), 0px 1px 3px 1px rgba(60, 64, 67, 0.15);\n",
              "      fill: #174EA6;\n",
              "    }\n",
              "\n",
              "    [theme=dark] .colab-df-convert {\n",
              "      background-color: #3B4455;\n",
              "      fill: #D2E3FC;\n",
              "    }\n",
              "\n",
              "    [theme=dark] .colab-df-convert:hover {\n",
              "      background-color: #434B5C;\n",
              "      box-shadow: 0px 1px 3px 1px rgba(0, 0, 0, 0.15);\n",
              "      filter: drop-shadow(0px 1px 2px rgba(0, 0, 0, 0.3));\n",
              "      fill: #FFFFFF;\n",
              "    }\n",
              "  </style>\n",
              "\n",
              "      <script>\n",
              "        const buttonEl =\n",
              "          document.querySelector('#df-189c336f-1fb4-4d20-adfc-699c7f7252ab button.colab-df-convert');\n",
              "        buttonEl.style.display =\n",
              "          google.colab.kernel.accessAllowed ? 'block' : 'none';\n",
              "\n",
              "        async function convertToInteractive(key) {\n",
              "          const element = document.querySelector('#df-189c336f-1fb4-4d20-adfc-699c7f7252ab');\n",
              "          const dataTable =\n",
              "            await google.colab.kernel.invokeFunction('convertToInteractive',\n",
              "                                                     [key], {});\n",
              "          if (!dataTable) return;\n",
              "\n",
              "          const docLinkHtml = 'Like what you see? Visit the ' +\n",
              "            '<a target=\"_blank\" href=https://colab.research.google.com/notebooks/data_table.ipynb>data table notebook</a>'\n",
              "            + ' to learn more about interactive tables.';\n",
              "          element.innerHTML = '';\n",
              "          dataTable['output_type'] = 'display_data';\n",
              "          await google.colab.output.renderOutput(dataTable, element);\n",
              "          const docLink = document.createElement('div');\n",
              "          docLink.innerHTML = docLinkHtml;\n",
              "          element.appendChild(docLink);\n",
              "        }\n",
              "      </script>\n",
              "    </div>\n",
              "  </div>\n",
              "  "
            ]
          },
          "metadata": {},
          "execution_count": 2
        }
      ],
      "source": [
        "path_sample = '/content/drive/MyDrive/H_Tatarstan2022/data/sample_solution.csv'\n",
        "df_sample = pd.read_csv(path_sample, sep=';')\n",
        "df_sample.head(15)"
      ]
    },
    {
      "cell_type": "markdown",
      "source": [
        "## Подготовка данных"
      ],
      "metadata": {
        "id": "PXvLxGOfuxTU"
      }
    },
    {
      "cell_type": "code",
      "source": [
        "%cd /content/drive/MyDrive/H_Tatarstan2022/\n",
        "!pwd"
      ],
      "metadata": {
        "colab": {
          "base_uri": "https://localhost:8080/"
        },
        "id": "bjDSxYfcwZdh",
        "outputId": "0287861c-b136-4ee3-bcff-eb4f5518ec92"
      },
      "execution_count": 3,
      "outputs": [
        {
          "output_type": "stream",
          "name": "stdout",
          "text": [
            "/content/drive/MyDrive/H_Tatarstan2022\n",
            "/content/drive/MyDrive/H_Tatarstan2022\n"
          ]
        }
      ]
    },
    {
      "cell_type": "code",
      "source": [
        "# !unzip data/zipped/train_dataset_train.zip -d data/\n",
        "# !unzip data/zipped/test_dataset_test.zip -d data/"
      ],
      "metadata": {
        "id": "Q4x0mM01tzyX"
      },
      "execution_count": 4,
      "outputs": []
    },
    {
      "cell_type": "code",
      "source": [
        "len(os.listdir('data/train/images')), len(os.listdir('data/test/images'))"
      ],
      "metadata": {
        "id": "e_zV-dEovfwk",
        "colab": {
          "base_uri": "https://localhost:8080/"
        },
        "outputId": "7ae2bb70-0a53-4cdb-f994-e450bffe9106"
      },
      "execution_count": 5,
      "outputs": [
        {
          "output_type": "execute_result",
          "data": {
            "text/plain": [
              "(2002, 855)"
            ]
          },
          "metadata": {},
          "execution_count": 5
        }
      ]
    },
    {
      "cell_type": "code",
      "source": [
        "# Распределение объектов в train\n",
        "pd.Series([file_name.split('_')[-1]\n",
        "           for file_name in os.listdir('data/train/labels')]).value_counts()"
      ],
      "metadata": {
        "colab": {
          "base_uri": "https://localhost:8080/"
        },
        "id": "R04T3vTge1IO",
        "outputId": "f6f5eec0-62d0-4026-9409-5c188a81039a"
      },
      "execution_count": 6,
      "outputs": [
        {
          "output_type": "execute_result",
          "data": {
            "text/plain": [
              "head..txt        1741\n",
              "human..txt       1740\n",
              "car..txt         1647\n",
              "face..txt         630\n",
              "carplate..txt     246\n",
              "dtype: int64"
            ]
          },
          "metadata": {},
          "execution_count": 6
        }
      ]
    },
    {
      "cell_type": "code",
      "source": [
        "# Создадим обучающий датасет в формате yolo\n",
        "# !mkdir data_for_yolo\n",
        "# !mkdir data_for_yolo/data\n",
        "# !mkdir data_for_yolo/data/images\n",
        "# !mkdir data_for_yolo/data/labels\n",
        "# !mkdir data_for_yolo/data/images/train\n",
        "# !mkdir data_for_yolo/data/labels/train\n",
        "# !mkdir data_for_yolo/data/images/test\n",
        "# !mkdir data_for_yolo/data/labels/test"
      ],
      "metadata": {
        "id": "3_9hIIDke1JN"
      },
      "execution_count": 7,
      "outputs": []
    },
    {
      "cell_type": "code",
      "source": [
        "import yaml\n",
        "\n",
        "yaml_content = \"\"\"\n",
        "train: data_for_yolo/data/images/train/\n",
        "val: data_for_yolo/data/images/test/\n",
        "\n",
        "# number of classes\n",
        "nc: 5\n",
        "\n",
        "# class names\n",
        "names: ['human', 'head', 'face', 'car', 'carplate']\n",
        "\"\"\"\n",
        "\n",
        "with open('data_for_yolo/dataset.yaml', 'w') as f_yml:\n",
        "    yaml.dump(yaml_content, f_yml)"
      ],
      "metadata": {
        "id": "JZFRItuEvM_5"
      },
      "execution_count": 8,
      "outputs": []
    },
    {
      "cell_type": "code",
      "source": [
        "# !mkdir data/train/yolo_labels"
      ],
      "metadata": {
        "id": "IgKCxy54rh3d"
      },
      "execution_count": 9,
      "outputs": []
    },
    {
      "cell_type": "code",
      "source": [
        "# Сделаем разметку как в Yolo, после этого нужным образом перемешаем и\n",
        "# закинем в папку data_for_yolo\n",
        "name_to_class_num = {\n",
        "    'human': 0,\n",
        "    'head': 1,\n",
        "    'face': 2,\n",
        "    'car': 3,\n",
        "    'carplate': 4\n",
        "}\n",
        "\n",
        "for img_name in os.listdir('data/train/images'):\n",
        "    print(img_name.split('.')[0])\n",
        "    break"
      ],
      "metadata": {
        "id": "E98XOhD6xVwU",
        "colab": {
          "base_uri": "https://localhost:8080/"
        },
        "outputId": "10cde973-57b7-4972-ccf5-7af3534381b8"
      },
      "execution_count": 23,
      "outputs": [
        {
          "output_type": "stream",
          "name": "stdout",
          "text": [
            "25-11-2021_06-28-29_AM\n"
          ]
        }
      ]
    },
    {
      "cell_type": "code",
      "source": [
        "for img_name in os.listdir('data/train/images/'):\n",
        "    img_name = img_name.split('.')[0]\n",
        "    print(img_name)\n",
        "    for f in os.listdir('data/train/labels/'):\n",
        "        if f.startswith(img_name):\n",
        "            print(f)\n",
        "    break"
      ],
      "metadata": {
        "id": "ijYN-W3dxVyT",
        "colab": {
          "base_uri": "https://localhost:8080/"
        },
        "outputId": "7b3a6c78-63d4-4487-bb81-b4659ca71e2c"
      },
      "execution_count": 24,
      "outputs": [
        {
          "output_type": "stream",
          "name": "stdout",
          "text": [
            "25-11-2021_06-28-29_AM\n",
            "25-11-2021_06-28-29_AM_human..txt\n",
            "25-11-2021_06-28-29_AM_head..txt\n",
            "25-11-2021_06-28-29_AM_face..txt\n",
            "25-11-2021_06-28-29_AM_car..txt\n"
          ]
        }
      ]
    },
    {
      "cell_type": "code",
      "source": [
        "for img_name in os.listdir('data/train/images/'):\n",
        "    img_name = img_name.split('.')[0]\n",
        "    print(img_name)\n",
        "    for f in os.listdir('data/train/labels/'):\n",
        "        if f.startswith(img_name):\n",
        "            print(f.split('.')[0].split('_')[-1])\n",
        "            with open('data/train/labels/' + f, 'r') as f_old:\n",
        "                print(f_old.readlines())\n",
        "    break"
      ],
      "metadata": {
        "colab": {
          "base_uri": "https://localhost:8080/"
        },
        "id": "QdVTB2fatlOp",
        "outputId": "8a842099-7245-495d-d059-9c2124f2b6a8"
      },
      "execution_count": 26,
      "outputs": [
        {
          "output_type": "stream",
          "name": "stdout",
          "text": [
            "25-11-2021_06-28-29_AM\n",
            "human\n",
            "['0 0.5355512152777778 0.7598996913580247 0.08703124999999999 0.34498456790123466\\n', '0 0.6109288194444444 0.809579475308642 0.06459201388888886 0.2568132716049384\\n']\n",
            "head\n",
            "['0 0.6060763888888889 0.7109413580246914 0.027326388888888904 0.05478395061728395\\n', '0 0.5411002604166666 0.6192052469135803 0.02878038194444442 0.060462962962962975\\n']\n",
            "face\n",
            "['0 0.6046875 0.7285956790123457 0.017083333333333388 0.023487654320987695\\n', '0 0.5391970486111111 0.6480131172839506 0.018220486111111118 0.03158179012345675\\n']\n",
            "car\n",
            "['0 0.08944661458333333 0.24220679012345678 0.17889322916666667 0.2080246913580247\\n', '0 0.15489149305555555 0.0732716049382716 0.14311631944444445 0.11594135802469135\\n']\n"
          ]
        }
      ]
    },
    {
      "cell_type": "code",
      "source": [
        "old_path = 'data/train/labels/'\n",
        "new_path = 'data/train/yolo_labels/'\n",
        "\n",
        "for img_name in os.listdir('data/train/images/'):\n",
        "    img_name = img_name.split('.')[0]\n",
        "    print(img_name)\n",
        "    with open(new_path + img_name + '.txt', 'w') as f_new:\n",
        "        for f in os.listdir(old_path):\n",
        "            if f.startswith(img_name):\n",
        "                with open(old_path + f, 'r') as f_old:\n",
        "                    f_new.write(f_old.readlines())\n",
        "    break"
      ],
      "metadata": {
        "id": "7hUda11bsKYv"
      },
      "execution_count": null,
      "outputs": []
    },
    {
      "cell_type": "code",
      "source": [
        ""
      ],
      "metadata": {
        "id": "1qdk5k1ysKaj"
      },
      "execution_count": null,
      "outputs": []
    },
    {
      "cell_type": "code",
      "source": [
        ""
      ],
      "metadata": {
        "id": "2OKYkZ9WsKcc"
      },
      "execution_count": null,
      "outputs": []
    },
    {
      "cell_type": "code",
      "source": [
        ""
      ],
      "metadata": {
        "id": "TzCwZv0AsKeT"
      },
      "execution_count": null,
      "outputs": []
    },
    {
      "cell_type": "code",
      "source": [
        ""
      ],
      "metadata": {
        "id": "wcC0qEJyxV0d"
      },
      "execution_count": null,
      "outputs": []
    },
    {
      "cell_type": "markdown",
      "source": [
        "## Model"
      ],
      "metadata": {
        "id": "B5Opj1mPvNp_"
      }
    },
    {
      "cell_type": "code",
      "source": [
        "# !git clone https://github.com/ultralytics/yolov5.git\n",
        "!pip install -r yolov5/requirements.txt"
      ],
      "metadata": {
        "colab": {
          "base_uri": "https://localhost:8080/"
        },
        "id": "0F18laexe1LL",
        "outputId": "898c0576-2218-4eb6-e1ff-cff34d39ef0b"
      },
      "execution_count": null,
      "outputs": [
        {
          "output_type": "stream",
          "name": "stdout",
          "text": [
            "Cloning into 'yolov5'...\n",
            "remote: Enumerating objects: 12547, done.\u001b[K\n",
            "remote: Counting objects: 100% (95/95), done.\u001b[K\n",
            "remote: Compressing objects: 100% (76/76), done.\u001b[K\n",
            "remote: Total 12547 (delta 49), reused 42 (delta 19), pack-reused 12452\u001b[K\n",
            "Receiving objects: 100% (12547/12547), 12.53 MiB | 3.82 MiB/s, done.\n",
            "Resolving deltas: 100% (8584/8584), done.\n"
          ]
        }
      ]
    },
    {
      "cell_type": "code",
      "source": [
        "# !python yolov5/train.py --freeze 10"
      ],
      "metadata": {
        "id": "9K6PcPRUgJPb"
      },
      "execution_count": null,
      "outputs": []
    },
    {
      "cell_type": "code",
      "source": [
        ""
      ],
      "metadata": {
        "id": "djgo2fSngJRM"
      },
      "execution_count": null,
      "outputs": []
    },
    {
      "cell_type": "code",
      "source": [
        ""
      ],
      "metadata": {
        "id": "yaZ9zyiPgJTV"
      },
      "execution_count": null,
      "outputs": []
    },
    {
      "cell_type": "code",
      "source": [
        ""
      ],
      "metadata": {
        "id": "9ba5ccnhe1N6"
      },
      "execution_count": null,
      "outputs": []
    },
    {
      "cell_type": "code",
      "source": [
        ""
      ],
      "metadata": {
        "id": "IKP1Rib7e1PC"
      },
      "execution_count": null,
      "outputs": []
    },
    {
      "cell_type": "code",
      "source": [
        ""
      ],
      "metadata": {
        "id": "d47PsPrqe1RU"
      },
      "execution_count": null,
      "outputs": []
    }
  ]
}